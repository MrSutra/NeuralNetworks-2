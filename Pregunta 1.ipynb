{
 "cells": [
  {
   "cell_type": "markdown",
   "metadata": {},
   "source": [
    "# Entrenamiento de RNNs en una Serie de Tiempo\n",
    "\n",
    "En esta sección emplearemos redes neuronales recurrentes para modelar series de tiempo, es decir una serie\n",
    "de registros (tı́picamente valores reales) regularmente indexados en el tiempo. Para ello utilizaremos un dataset\n",
    "denominado \"*Minimum Daily Temperatures*\", el cual describe la temperatura mínima diaria en un período de 10 años (1981 a 1990) en la ciudad de Melbourne, Australia. Las unidades de las 3670 observaciones fueron medidas en grados celsius. A continuación se muestra la secuencia de tiempo:\n",
    "<img src=\"https://3qeqpr26caki16dnhd19sv6by6v-wpengine.netdna-ssl.com/wp-content/uploads/2016/11/Minimum-Daily-Temperatures.png\" width=\"60%\" />\n",
    "\n",
    "\n",
    "\n",
    "La tarea predictiva consiste en estimar la temperatura mínima diaria de algún día basado en la información de días anteriores.  \n",
    "*La fuente es acreditada a Australian Bureau of Meteorology.*"
   ]
  },
  {
   "cell_type": "code",
   "execution_count": 11,
   "metadata": {},
   "outputs": [],
   "source": [
    "import pandas as pd\n",
    "import numpy as np"
   ]
  },
  {
   "cell_type": "markdown",
   "metadata": {},
   "source": [
    "> a) Escriba una función que cargue los datos, los divida en 1500 de entrenamiento y el resto (500) de pruebas. Además de esto escálelos apropiadamente para trabajar con redes recurrentes."
   ]
  },
  {
   "cell_type": "markdown",
   "metadata": {},
   "source": [
    "Ojo no se usan todos los datos solo 200"
   ]
  },
  {
   "cell_type": "code",
   "execution_count": 3,
   "metadata": {},
   "outputs": [],
   "source": [
    "#cargar los datos y dividir\n",
    "name_f = \"time_series_data.csv\"\n",
    "dataframe = pd.read_csv(name_f,sep=',',usecols=[1],engine='python',skipfooter = 3)[:2000]\n",
    "dataframe[:] = dataframe[:].astype('float32')\n",
    "df_train, df_test = dataframe[:1500].values, dataframe[1500:].values\n",
    "\n",
    "#escalar datos\n",
    "from sklearn.preprocessing import MinMaxScaler\n",
    "scaler = MinMaxScaler(feature_range=(0,1)).fit(df_train)\n",
    "stream_train_scaled = scaler.transform(df_train)\n",
    "stream_test_scaled = scaler.transform(df_test)"
   ]
  },
  {
   "cell_type": "code",
   "execution_count": 21,
   "metadata": {},
   "outputs": [
    {
     "name": "stdout",
     "output_type": "stream",
     "text": [
      "(2000, 1)\n"
     ]
    },
    {
     "data": {
      "text/html": [
       "<div>\n",
       "<style scoped>\n",
       "    .dataframe tbody tr th:only-of-type {\n",
       "        vertical-align: middle;\n",
       "    }\n",
       "\n",
       "    .dataframe tbody tr th {\n",
       "        vertical-align: top;\n",
       "    }\n",
       "\n",
       "    .dataframe thead th {\n",
       "        text-align: right;\n",
       "    }\n",
       "</style>\n",
       "<table border=\"1\" class=\"dataframe\">\n",
       "  <thead>\n",
       "    <tr style=\"text-align: right;\">\n",
       "      <th></th>\n",
       "      <th>Daily minimum temperatures in Melbourne, Australia, 1981-1990</th>\n",
       "    </tr>\n",
       "  </thead>\n",
       "  <tbody>\n",
       "    <tr>\n",
       "      <th>count</th>\n",
       "      <td>2000.000000</td>\n",
       "    </tr>\n",
       "    <tr>\n",
       "      <th>mean</th>\n",
       "      <td>11.148250</td>\n",
       "    </tr>\n",
       "    <tr>\n",
       "      <th>std</th>\n",
       "      <td>4.194983</td>\n",
       "    </tr>\n",
       "    <tr>\n",
       "      <th>min</th>\n",
       "      <td>0.000000</td>\n",
       "    </tr>\n",
       "    <tr>\n",
       "      <th>25%</th>\n",
       "      <td>8.100000</td>\n",
       "    </tr>\n",
       "    <tr>\n",
       "      <th>50%</th>\n",
       "      <td>11.000000</td>\n",
       "    </tr>\n",
       "    <tr>\n",
       "      <th>75%</th>\n",
       "      <td>14.000000</td>\n",
       "    </tr>\n",
       "    <tr>\n",
       "      <th>max</th>\n",
       "      <td>26.299999</td>\n",
       "    </tr>\n",
       "  </tbody>\n",
       "</table>\n",
       "</div>"
      ],
      "text/plain": [
       "       Daily minimum temperatures in Melbourne, Australia, 1981-1990\n",
       "count                                        2000.000000            \n",
       "mean                                           11.148250            \n",
       "std                                             4.194983            \n",
       "min                                             0.000000            \n",
       "25%                                             8.100000            \n",
       "50%                                            11.000000            \n",
       "75%                                            14.000000            \n",
       "max                                            26.299999            "
      ]
     },
     "execution_count": 21,
     "metadata": {},
     "output_type": "execute_result"
    }
   ],
   "source": [
    "print(dataframe.shape)\n",
    "dataframe.describe()"
   ]
  },
  {
   "cell_type": "code",
   "execution_count": 23,
   "metadata": {},
   "outputs": [
    {
     "name": "stdout",
     "output_type": "stream",
     "text": [
      "Datos de entrenamiento:  1500 , correspondiente al  0.75 % de los datos\n",
      "Datos de entrenamiento:  500 , correspondiente al  0.25 % de los datos\n"
     ]
    }
   ],
   "source": [
    "n_train = df_train.shape[0]\n",
    "n_test = df_test.shape[0]\n",
    "print(\"Datos de entrenamiento: \", n_train, \", correspondiente al \", n_train/dataframe.shape[0], \"% de los datos\")\n",
    "print(\"Datos de entrenamiento: \", n_test, \", correspondiente al \", n_test/dataframe.shape[0], \"% de los datos\")"
   ]
  },
  {
   "cell_type": "markdown",
   "metadata": {},
   "source": [
    "> b) Ahora nos gustarı́a manipular los datos, para que hagamos la predicción de la temperatura mínima para el tiempo siguiente usando la temperatura mínima de los últimos perı́odos de tiempo. El número de perı́odos de tiempos que usaremos se denomina lag. Por ejemplo, tendremos un lag igual a 3, si para predecir el valor $x_{t+1}$ en el tiempo siguiente usamos la información del tiempo actual $x_t$ y la de los dos perı́odos anteriores $x_{t-1}$ y $x_{t-2}$ como variables de entrada. Realice una función que reciba una secuencia de valores y la transforme en dos arreglos dataX (inputs) y dataY (targets) donde el número de caracterı́sticas de la la matriz de entrada (columnas) sea el número de tiempos que se considerarán como información (lag)."
   ]
  },
  {
   "cell_type": "code",
   "execution_count": 15,
   "metadata": {},
   "outputs": [],
   "source": [
    "#modificar\n",
    "def create_dataset(dataset,lag=1):\n",
    "    #preprocesamiento asumiendo dataset es una secuencia\n",
    "    dataX = []\n",
    "    dataY =[]\n",
    "    for t_plus_1 in range(lag,len(dataset)):\n",
    "        #se crea el Y (target)\n",
    "        predecir = dataset[t_plus_1]\n",
    "        dataY+= list(predecir) \n",
    "        \n",
    "        #se crea el X (inputs) columnas para predecir Y\n",
    "        columnasX = []\n",
    "        for i in np.arange(lag,0,-1): #para los valores anteriores al t_plus_1 durante un lag\n",
    "            columnasX += list( dataset[t_plus_1-i] )\n",
    "        dataX.append(columnasX)\n",
    "    return np.array(dataX),np.array(dataY)\n",
    "\n",
    "data_x, data_y = create_dataset(stream_train_scaled, 3)"
   ]
  },
  {
   "cell_type": "code",
   "execution_count": 17,
   "metadata": {},
   "outputs": [
    {
     "data": {
      "text/plain": [
       "array([[0.7870723 , 0.6806084 , 0.7148289 ],\n",
       "       [0.6806084 , 0.7148289 , 0.5551331 ],\n",
       "       [0.7148289 , 0.5551331 , 0.6007605 ],\n",
       "       [0.5551331 , 0.6007605 , 0.6007605 ],\n",
       "       [0.6007605 , 0.6007605 , 0.6007605 ],\n",
       "       [0.6007605 , 0.6007605 , 0.661597  ],\n",
       "       [0.6007605 , 0.661597  , 0.82889736],\n",
       "       [0.661597  , 0.82889736, 0.7604563 ],\n",
       "       [0.82889736, 0.7604563 , 0.61596966],\n",
       "       [0.7604563 , 0.61596966, 0.50570345]], dtype=float32)"
      ]
     },
     "execution_count": 17,
     "metadata": {},
     "output_type": "execute_result"
    }
   ],
   "source": [
    "data_x[:10]"
   ]
  }
 ],
 "metadata": {
  "kernelspec": {
   "display_name": "Python 3",
   "language": "python",
   "name": "python3"
  },
  "language_info": {
   "codemirror_mode": {
    "name": "ipython",
    "version": 3
   },
   "file_extension": ".py",
   "mimetype": "text/x-python",
   "name": "python",
   "nbconvert_exporter": "python",
   "pygments_lexer": "ipython3",
   "version": "3.5.2"
  }
 },
 "nbformat": 4,
 "nbformat_minor": 2
}
