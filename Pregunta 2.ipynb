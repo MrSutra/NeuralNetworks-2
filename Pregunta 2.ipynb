{
 "cells": [
  {
   "cell_type": "markdown",
   "metadata": {},
   "source": [
    "## 2.  Redes recurrentes sobre texto\n",
    "Hoy en dı́a, una aplicación relevante de las redes neuronales recurrentes es el modelamiento de texto y lenguaje natural. En esta sección abordaremos el problema de procesar sentencias de texto proporcionadas por GMB (*Groningen Meaning Bank*) para reconocimiento de entidades y tagger. Trabajaremos con el dataset proprocionado a través de la interfaz de Kaggle en el siguiente __[link](https://www.kaggle.com/abhinavwalia95/entity-annotated-corpus)__, con mas de un millón de palabras trabajaremos este dataset para realizar predicciones sobre distintas tareas, del tipo *many to many* y *many to one*.\n",
    "\n",
    "<img src=\"https://i.stack.imgur.com/b4sus.jpg\" width=\"70%\" />\n",
    "<hr>\n",
    "\n",
    "Primero cargamos las librerias necesarias para el experimento."
   ]
  },
  {
   "cell_type": "code",
   "execution_count": 1,
   "metadata": {},
   "outputs": [
    {
     "name": "stderr",
     "output_type": "stream",
     "text": [
      "Using TensorFlow backend.\n"
     ]
    }
   ],
   "source": [
    "%matplotlib inline\n",
    "import time\n",
    "import random\n",
    "import sys\n",
    "import operator\n",
    "import numpy as np\n",
    "import pandas as pd\n",
    "import matplotlib.pyplot as plt\n",
    "\n",
    "from IPython.core.pylabtools import figsize\n",
    "from sklearn.model_selection import train_test_split\n",
    "\n",
    "from keras.preprocessing import sequence\n",
    "from keras.utils import to_categorical\n",
    "from keras.models import Sequential\n",
    "from keras.layers import LSTM, Embedding, Dense, Dropout, Bidirectional, CuDNNGRU,GRU\n",
    "from keras.callbacks import LambdaCallback\n",
    "\n",
    "plt.style.use('ggplot')"
   ]
  },
  {
   "cell_type": "markdown",
   "metadata": {},
   "source": [
    "Los datos a utilizar corresponden al corpus anotado para el Reconocimiento de Entidades Nombradas (NER por sus siglas en inglés) usando el corpus GMB (Groningen Meaning Bank) para la clasificación de entidades. Este es el extracto del corpus GMB que está etiquetado, anotado y construido específicamente para entrenar al clasificador para predecir las entidades con nombre, como el nombre, la ubicación, etc.\n",
    "\n",
    "Trabajaremos realizando la tarea de POS tagging (part-of-speech): es el proceso de asignar a cada palabra de un texto su categoría gramatical. Este proceso se puede realizar de acuerdo con la definición de la palabra o el contexto en que aparece, por ejemplo su relación con las palabras adyacentes en una frase, oración (como realiza el desambiguador léxico en ventana deslizante), o en un párrafo.\n",
    "\n",
    "Uno de los usos de este etiquetado tiene lugar en el contexto de la lingüística computacional, mediante el empleo de algoritmos que realizan el etiquetado usando etiquetas descriptivas predefinidas.\n",
    "<hr>\n",
    "\n",
    "El dataset es descargado de [Kaggle](https://www.kaggle.com/abhinavwalia95/entity-annotated-corpus). Se cargan los datos."
   ]
  },
  {
   "cell_type": "code",
   "execution_count": 2,
   "metadata": {},
   "outputs": [
    {
     "name": "stderr",
     "output_type": "stream",
     "text": [
      "b'Skipping line 281837: expected 25 fields, saw 34\\n'\n"
     ]
    }
   ],
   "source": [
    "file = \"./entity-annotated-corpus/ner.csv.zip\"\n",
    "df_ner = pd.read_csv(file, compression=\"infer\", error_bad_lines=False, encoding=\"Latin-1\")\n",
    "df_ner.dropna(inplace=True) "
   ]
  },
  {
   "cell_type": "code",
   "execution_count": 3,
   "metadata": {},
   "outputs": [
    {
     "data": {
      "text/html": [
       "<div>\n",
       "<style scoped>\n",
       "    .dataframe tbody tr th:only-of-type {\n",
       "        vertical-align: middle;\n",
       "    }\n",
       "\n",
       "    .dataframe tbody tr th {\n",
       "        vertical-align: top;\n",
       "    }\n",
       "\n",
       "    .dataframe thead th {\n",
       "        text-align: right;\n",
       "    }\n",
       "</style>\n",
       "<table border=\"1\" class=\"dataframe\">\n",
       "  <thead>\n",
       "    <tr style=\"text-align: right;\">\n",
       "      <th></th>\n",
       "      <th>Unnamed: 0</th>\n",
       "      <th>lemma</th>\n",
       "      <th>next-lemma</th>\n",
       "      <th>next-next-lemma</th>\n",
       "      <th>next-next-pos</th>\n",
       "      <th>next-next-shape</th>\n",
       "      <th>next-next-word</th>\n",
       "      <th>next-pos</th>\n",
       "      <th>next-shape</th>\n",
       "      <th>next-word</th>\n",
       "      <th>...</th>\n",
       "      <th>prev-prev-lemma</th>\n",
       "      <th>prev-prev-pos</th>\n",
       "      <th>prev-prev-shape</th>\n",
       "      <th>prev-prev-word</th>\n",
       "      <th>prev-shape</th>\n",
       "      <th>prev-word</th>\n",
       "      <th>sentence_idx</th>\n",
       "      <th>shape</th>\n",
       "      <th>word</th>\n",
       "      <th>tag</th>\n",
       "    </tr>\n",
       "  </thead>\n",
       "  <tbody>\n",
       "    <tr>\n",
       "      <th>0</th>\n",
       "      <td>0</td>\n",
       "      <td>thousand</td>\n",
       "      <td>of</td>\n",
       "      <td>demonstr</td>\n",
       "      <td>NNS</td>\n",
       "      <td>lowercase</td>\n",
       "      <td>demonstrators</td>\n",
       "      <td>IN</td>\n",
       "      <td>lowercase</td>\n",
       "      <td>of</td>\n",
       "      <td>...</td>\n",
       "      <td>__start2__</td>\n",
       "      <td>__START2__</td>\n",
       "      <td>wildcard</td>\n",
       "      <td>__START2__</td>\n",
       "      <td>wildcard</td>\n",
       "      <td>__START1__</td>\n",
       "      <td>1.0</td>\n",
       "      <td>capitalized</td>\n",
       "      <td>Thousands</td>\n",
       "      <td>O</td>\n",
       "    </tr>\n",
       "    <tr>\n",
       "      <th>1</th>\n",
       "      <td>1</td>\n",
       "      <td>of</td>\n",
       "      <td>demonstr</td>\n",
       "      <td>have</td>\n",
       "      <td>VBP</td>\n",
       "      <td>lowercase</td>\n",
       "      <td>have</td>\n",
       "      <td>NNS</td>\n",
       "      <td>lowercase</td>\n",
       "      <td>demonstrators</td>\n",
       "      <td>...</td>\n",
       "      <td>__start1__</td>\n",
       "      <td>__START1__</td>\n",
       "      <td>wildcard</td>\n",
       "      <td>__START1__</td>\n",
       "      <td>capitalized</td>\n",
       "      <td>Thousands</td>\n",
       "      <td>1.0</td>\n",
       "      <td>lowercase</td>\n",
       "      <td>of</td>\n",
       "      <td>O</td>\n",
       "    </tr>\n",
       "    <tr>\n",
       "      <th>2</th>\n",
       "      <td>2</td>\n",
       "      <td>demonstr</td>\n",
       "      <td>have</td>\n",
       "      <td>march</td>\n",
       "      <td>VBN</td>\n",
       "      <td>lowercase</td>\n",
       "      <td>marched</td>\n",
       "      <td>VBP</td>\n",
       "      <td>lowercase</td>\n",
       "      <td>have</td>\n",
       "      <td>...</td>\n",
       "      <td>thousand</td>\n",
       "      <td>NNS</td>\n",
       "      <td>capitalized</td>\n",
       "      <td>Thousands</td>\n",
       "      <td>lowercase</td>\n",
       "      <td>of</td>\n",
       "      <td>1.0</td>\n",
       "      <td>lowercase</td>\n",
       "      <td>demonstrators</td>\n",
       "      <td>O</td>\n",
       "    </tr>\n",
       "    <tr>\n",
       "      <th>3</th>\n",
       "      <td>3</td>\n",
       "      <td>have</td>\n",
       "      <td>march</td>\n",
       "      <td>through</td>\n",
       "      <td>IN</td>\n",
       "      <td>lowercase</td>\n",
       "      <td>through</td>\n",
       "      <td>VBN</td>\n",
       "      <td>lowercase</td>\n",
       "      <td>marched</td>\n",
       "      <td>...</td>\n",
       "      <td>of</td>\n",
       "      <td>IN</td>\n",
       "      <td>lowercase</td>\n",
       "      <td>of</td>\n",
       "      <td>lowercase</td>\n",
       "      <td>demonstrators</td>\n",
       "      <td>1.0</td>\n",
       "      <td>lowercase</td>\n",
       "      <td>have</td>\n",
       "      <td>O</td>\n",
       "    </tr>\n",
       "    <tr>\n",
       "      <th>4</th>\n",
       "      <td>4</td>\n",
       "      <td>march</td>\n",
       "      <td>through</td>\n",
       "      <td>london</td>\n",
       "      <td>NNP</td>\n",
       "      <td>capitalized</td>\n",
       "      <td>London</td>\n",
       "      <td>IN</td>\n",
       "      <td>lowercase</td>\n",
       "      <td>through</td>\n",
       "      <td>...</td>\n",
       "      <td>demonstr</td>\n",
       "      <td>NNS</td>\n",
       "      <td>lowercase</td>\n",
       "      <td>demonstrators</td>\n",
       "      <td>lowercase</td>\n",
       "      <td>have</td>\n",
       "      <td>1.0</td>\n",
       "      <td>lowercase</td>\n",
       "      <td>marched</td>\n",
       "      <td>O</td>\n",
       "    </tr>\n",
       "  </tbody>\n",
       "</table>\n",
       "<p>5 rows × 25 columns</p>\n",
       "</div>"
      ],
      "text/plain": [
       "   Unnamed: 0     lemma next-lemma next-next-lemma next-next-pos  \\\n",
       "0           0  thousand         of        demonstr           NNS   \n",
       "1           1        of   demonstr            have           VBP   \n",
       "2           2  demonstr       have           march           VBN   \n",
       "3           3      have      march         through            IN   \n",
       "4           4     march    through          london           NNP   \n",
       "\n",
       "  next-next-shape next-next-word next-pos next-shape      next-word ...  \\\n",
       "0       lowercase  demonstrators       IN  lowercase             of ...   \n",
       "1       lowercase           have      NNS  lowercase  demonstrators ...   \n",
       "2       lowercase        marched      VBP  lowercase           have ...   \n",
       "3       lowercase        through      VBN  lowercase        marched ...   \n",
       "4     capitalized         London       IN  lowercase        through ...   \n",
       "\n",
       "  prev-prev-lemma prev-prev-pos prev-prev-shape prev-prev-word   prev-shape  \\\n",
       "0      __start2__    __START2__        wildcard     __START2__     wildcard   \n",
       "1      __start1__    __START1__        wildcard     __START1__  capitalized   \n",
       "2        thousand           NNS     capitalized      Thousands    lowercase   \n",
       "3              of            IN       lowercase             of    lowercase   \n",
       "4        demonstr           NNS       lowercase  demonstrators    lowercase   \n",
       "\n",
       "       prev-word sentence_idx        shape           word tag  \n",
       "0     __START1__          1.0  capitalized      Thousands   O  \n",
       "1      Thousands          1.0    lowercase             of   O  \n",
       "2             of          1.0    lowercase  demonstrators   O  \n",
       "3  demonstrators          1.0    lowercase           have   O  \n",
       "4           have          1.0    lowercase        marched   O  \n",
       "\n",
       "[5 rows x 25 columns]"
      ]
     },
     "execution_count": 3,
     "metadata": {},
     "output_type": "execute_result"
    }
   ],
   "source": [
    "df_ner.head()"
   ]
  },
  {
   "cell_type": "code",
   "execution_count": 3,
   "metadata": {},
   "outputs": [
    {
     "data": {
      "text/plain": [
       "(1050794, 25)"
      ]
     },
     "execution_count": 3,
     "metadata": {},
     "output_type": "execute_result"
    }
   ],
   "source": [
    "df_ner.shape"
   ]
  },
  {
   "cell_type": "markdown",
   "metadata": {},
   "source": [
    "Los datos consisten en 25 características (columnas) con 1050794 entradas. De las columnas, solo dos consisten en números y el resto son caracteres."
   ]
  },
  {
   "cell_type": "code",
   "execution_count": 4,
   "metadata": {},
   "outputs": [
    {
     "name": "stdout",
     "output_type": "stream",
     "text": [
      "<class 'pandas.core.frame.DataFrame'>\n",
      "Int64Index: 1050794 entries, 0 to 1050794\n",
      "Data columns (total 25 columns):\n",
      "Unnamed: 0         1050794 non-null int64\n",
      "lemma              1050794 non-null object\n",
      "next-lemma         1050794 non-null object\n",
      "next-next-lemma    1050794 non-null object\n",
      "next-next-pos      1050794 non-null object\n",
      "next-next-shape    1050794 non-null object\n",
      "next-next-word     1050794 non-null object\n",
      "next-pos           1050794 non-null object\n",
      "next-shape         1050794 non-null object\n",
      "next-word          1050794 non-null object\n",
      "pos                1050794 non-null object\n",
      "prev-iob           1050794 non-null object\n",
      "prev-lemma         1050794 non-null object\n",
      "prev-pos           1050794 non-null object\n",
      "prev-prev-iob      1050794 non-null object\n",
      "prev-prev-lemma    1050794 non-null object\n",
      "prev-prev-pos      1050794 non-null object\n",
      "prev-prev-shape    1050794 non-null object\n",
      "prev-prev-word     1050794 non-null object\n",
      "prev-shape         1050794 non-null object\n",
      "prev-word          1050794 non-null object\n",
      "sentence_idx       1050794 non-null float64\n",
      "shape              1050794 non-null object\n",
      "word               1050794 non-null object\n",
      "tag                1050794 non-null object\n",
      "dtypes: float64(1), int64(1), object(23)\n",
      "memory usage: 208.4+ MB\n"
     ]
    }
   ],
   "source": [
    "df_ner.info()"
   ]
  },
  {
   "cell_type": "markdown",
   "metadata": {},
   "source": [
    "> a) En esta primera instancia trabajaremos con la tarea de realizar un POS *tag* (*Part of Speech*) sobre cada una de las palabras en las sentencias que se nos presenta en los datos, también puede intentar el NER (*Named Entity Recogntion*) sobre la columna *tag*, esta tarea es del tipo *many to many*, es decir, la entrada es una secuencia y la salida es una secuencia sin *shift*, por lo que necesitaremos una estructura de red adecuada a esto. En primer lugar extraiga las columnas que utilizaremos del dataset ¿Por qué es conveniente utilizar *lemma* en vez de la palabra misma *word*?"
   ]
  },
  {
   "cell_type": "markdown",
   "metadata": {},
   "source": [
    "De las 25 columnas solo se seleccionan 4: \"lemma\", \"pos\", \"tag\" y \"prev-iob\".\n",
    "- *lemma* es el resultado de aplicar lemmatization a la palabra correspondiente a la raiz de la palabra, eliminando inflexiones. Por ejemplo, la palabra *saw* tendría como lemma *see*, o *saw* dependiendo del contexto (verbo o sustantivo). A diferencia de stemming, donde simplemente se reduce la palabra por medio de truncado, lemmatization reduce la palabra en base a diccionario. En este caso el lemma se obtiene de la palabra en *lowercase*.\n",
    "- *pos* es la etiqueta de Part-of-Speech que corresponde a la función de una palabra dentro de una oración.\n",
    "- *tag* es el mecanísmo de tags que usa NER llamadio IOB (In, Out, Begin).\n",
    "- *prev-iob* tag de la palabra previa\n",
    "\n",
    "Se decide trabajar con *lemmas* porque son versiones más cortas de las palabras y que captan el significado principal de ellas. Para este dataset el lemma se obtiene de las palabras procesadas, donde se eliminan las mayúsculas, así dos palabras donde varía la primera letra (comienzo de oración) serán tratadas como iguales. Además, la lemmatization permite trabajar con el significado de la palabra más que la forma en que pueda estar escrita. Así, diferentes conjugaciones de un verbo deberían caer dentro de un mismo lema (see = saw, seen, seeing, sees). Esto permite reducir la dimensionalidad del problema, que sería muy diferente al considerar todas las variaciones de un lemma dentro del dataset.\n",
    "\n",
    "Debido a que seleccionamos solo 4 columas se reduce la dimensión de los datos a 1050794x4."
   ]
  },
  {
   "cell_type": "code",
   "execution_count": 5,
   "metadata": {},
   "outputs": [],
   "source": [
    "dataset = df_ner.loc[:,[\"lemma\",\"pos\",\"tag\",\"prev-iob\"]]"
   ]
  },
  {
   "cell_type": "code",
   "execution_count": 6,
   "metadata": {},
   "outputs": [
    {
     "data": {
      "text/html": [
       "<div>\n",
       "<style scoped>\n",
       "    .dataframe tbody tr th:only-of-type {\n",
       "        vertical-align: middle;\n",
       "    }\n",
       "\n",
       "    .dataframe tbody tr th {\n",
       "        vertical-align: top;\n",
       "    }\n",
       "\n",
       "    .dataframe thead th {\n",
       "        text-align: right;\n",
       "    }\n",
       "</style>\n",
       "<table border=\"1\" class=\"dataframe\">\n",
       "  <thead>\n",
       "    <tr style=\"text-align: right;\">\n",
       "      <th></th>\n",
       "      <th>lemma</th>\n",
       "      <th>pos</th>\n",
       "      <th>tag</th>\n",
       "      <th>prev-iob</th>\n",
       "    </tr>\n",
       "  </thead>\n",
       "  <tbody>\n",
       "    <tr>\n",
       "      <th>0</th>\n",
       "      <td>thousand</td>\n",
       "      <td>NNS</td>\n",
       "      <td>O</td>\n",
       "      <td>__START1__</td>\n",
       "    </tr>\n",
       "    <tr>\n",
       "      <th>1</th>\n",
       "      <td>of</td>\n",
       "      <td>IN</td>\n",
       "      <td>O</td>\n",
       "      <td>O</td>\n",
       "    </tr>\n",
       "    <tr>\n",
       "      <th>2</th>\n",
       "      <td>demonstr</td>\n",
       "      <td>NNS</td>\n",
       "      <td>O</td>\n",
       "      <td>O</td>\n",
       "    </tr>\n",
       "    <tr>\n",
       "      <th>3</th>\n",
       "      <td>have</td>\n",
       "      <td>VBP</td>\n",
       "      <td>O</td>\n",
       "      <td>O</td>\n",
       "    </tr>\n",
       "    <tr>\n",
       "      <th>4</th>\n",
       "      <td>march</td>\n",
       "      <td>VBN</td>\n",
       "      <td>O</td>\n",
       "      <td>O</td>\n",
       "    </tr>\n",
       "  </tbody>\n",
       "</table>\n",
       "</div>"
      ],
      "text/plain": [
       "      lemma  pos tag    prev-iob\n",
       "0  thousand  NNS   O  __START1__\n",
       "1        of   IN   O           O\n",
       "2  demonstr  NNS   O           O\n",
       "3      have  VBP   O           O\n",
       "4     march  VBN   O           O"
      ]
     },
     "execution_count": 6,
     "metadata": {},
     "output_type": "execute_result"
    }
   ],
   "source": [
    "dataset.head()"
   ]
  },
  {
   "cell_type": "markdown",
   "metadata": {},
   "source": [
    "> Luego de esto cree una estructura que contendrá todas las sentencias u oraciones y otra estructura que contendrá los pos tagger, esto es un arreglo de arreglos de lemmas y un arreglo de arreglos de tags respectivamente. ¿Cuales son las dimensiones de ambas estructuras? ¿Cada dato de ejemplo tiene las mismas dimensiones que el resto?"
   ]
  },
  {
   "cell_type": "markdown",
   "metadata": {},
   "source": [
    "Se separa la variable dataset en el conjunto X (matriz de lemmas) y el conjunto Y (matriz de labels)."
   ]
  },
  {
   "cell_type": "code",
   "execution_count": 7,
   "metadata": {},
   "outputs": [],
   "source": [
    "sentence = []\n",
    "labels_sentence = []\n",
    "dataX,dataY = [],[]\n",
    "#uniques\n",
    "lemmas,labels = set(), set()\n",
    "\n",
    "for fila in dataset.values:\n",
    "    if fila[-1]==\"__START1__\": \n",
    "        dataX.append(np.asarray(sentence))\n",
    "        dataY.append(np.asarray(labels_sentence))\n",
    "        sentence = []\n",
    "        labels_sentence = []\n",
    "    lemmas.add(fila[0])\n",
    "    labels.add(fila[1])\n",
    "    sentence.append(fila[0])#add lemma\n",
    "    labels_sentence.append(fila[1]) #POS o TAG\n",
    "#data to  array\n",
    "dataX = np.asarray(dataX[1:])\n",
    "dataY = np.asarray(dataY[1:])"
   ]
  },
  {
   "cell_type": "code",
   "execution_count": 8,
   "metadata": {},
   "outputs": [
    {
     "name": "stdout",
     "output_type": "stream",
     "text": [
      "Cantidad labels:  41\n",
      "Cantidad lemmas:  20243\n",
      "Tamaño matriz de lemmas:  (48081,)\n",
      "Tamaño matriz de labels:  (48081,)\n"
     ]
    }
   ],
   "source": [
    "print(\"Cantidad labels: \", len(labels))\n",
    "print(\"Cantidad lemmas: \", len(lemmas))\n",
    "print(\"Tamaño matriz de lemmas: \", dataX.shape)\n",
    "print(\"Tamaño matriz de labels: \", dataY.shape)"
   ]
  },
  {
   "cell_type": "markdown",
   "metadata": {},
   "source": [
    "La cantidad de labels que hay es 41, hay 20.243 lemmas. La cantidad de filas de las matrices X e Y es de 48.081. Como se explica en el siguiente punto, las entradas en el dataset no tienen igual largo."
   ]
  },
  {
   "cell_type": "markdown",
   "metadata": {},
   "source": [
    "> b) Estudie la distribución del largo de los textos a procesar. Estudie también la frecuencia con la que aparecen\n",
    "las palabras en todo el dataset. ¿Se observa una ley Zipf? ¿Cambia el resultado cuando se separan los textos de acuerdo a su clase/categorı́a? Comente."
   ]
  },
  {
   "cell_type": "markdown",
   "metadata": {},
   "source": [
    "Para estudiar de largos de los textos a procesar, se obtiene el largo de todas las sentencias y se hace un histograma y un boxplot de los largos calculados."
   ]
  },
  {
   "cell_type": "code",
   "execution_count": 9,
   "metadata": {},
   "outputs": [
    {
     "data": {
      "image/png": "[encoded data removed]",
      "text/plain": [
       "<Figure size 1080x504 with 2 Axes>"
      ]
     },
     "metadata": {},
     "output_type": "display_data"
    }
   ],
   "source": [
    "phrases_len = []\n",
    "for row in dataX:\n",
    "    phrases_len.append(len(row))\n",
    "\n",
    "figsize(15,7)\n",
    "plt.subplot(121)\n",
    "plt.hist(phrases_len, bins=40)\n",
    "plt.xlabel(\"Largo de textos\")\n",
    "plt.ylabel(\"Número de filas\")\n",
    "plt.title(\"Distribución de largo de textos\")\n",
    "\n",
    "plt.subplot(122)\n",
    "plt.boxplot(phrases_len, labels=[\"Matriz frases\"])\n",
    "plt.title(\"Boxplot largo frases\")\n",
    "plt.show()"
   ]
  },
  {
   "cell_type": "markdown",
   "metadata": {},
   "source": [
    "Los gráficos anteriores muestran que las sentencias si tienen un largo diferente y que hay una mayor concentración de largos entre 10 y 40, siendo el largo que más se repite el rango 20-30 (más cercano a 20). El boxplot indica que existen varios valores de largos outliers después del 40. En definitiva las sentencias del dataset no son de larga extensión.\n",
    "<hr>\n",
    "La llamada ley de Zipf, formulada en la década de 1940 por George Kingsley Zipf, es una ley según la cual en una determinada lengua la frecuencia de aparición de distintas palabras sigue una distribución que puede aproximarse por\n",
    "\n",
    "\\\\[P_n \\sim \\frac{1}{n^a}\\\\]\n",
    "\n",
    "donde $P_n$ representa la frecuencia de la n-ésima palabra más frecuente y el exponente a es un número real positivo, en general ligeramente superior a 1,1. Esto significa que el segundo elemento se repetirá aproximadamente con una frecuencia de 1/2 de la del primero, el tercer elemento con una frecuencia de 1/3 y así sucesivamente. La ley de Zipf se cumple para la mayoría de las lenguas.\n",
    "\n",
    "Ref: https://es.wikipedia.org/wiki/Ley_de_Zipf\n",
    "\n",
    "Para corroborar la Ley de Zipf se calcula la frecuencia de las palabras a través de todas las sentencias y se gráfica la frecuencia en función de las palabras. A su vez, y solo a modo de ilustración, se hace el mismo proceso con los labels."
   ]
  },
  {
   "cell_type": "code",
   "execution_count": 10,
   "metadata": {},
   "outputs": [],
   "source": [
    "def get_frequency(data):\n",
    "    words = dict()\n",
    "    for phrase in data:\n",
    "        for word in phrase:\n",
    "            if word not in words:\n",
    "                words[word] = 0\n",
    "            words[word] += 1\n",
    "    words = sorted(words.items(), key=operator.itemgetter(1), reverse=True)\n",
    "    return words\n",
    "\n",
    "words_freq = get_frequency(dataX)\n",
    "lemmas_freq = get_frequency(dataY)\n",
    "\n",
    "w, w_freq = zip(*words_freq)\n",
    "l, l_freq = zip(*lemmas_freq)"
   ]
  },
  {
   "cell_type": "code",
   "execution_count": 11,
   "metadata": {},
   "outputs": [
    {
     "data": {
      "image/png": "[encoded data removed]",
      "text/plain": [
       "<Figure size 1080x504 with 2 Axes>"
      ]
     },
     "metadata": {},
     "output_type": "display_data"
    }
   ],
   "source": [
    "x_ = np.arange(30)\n",
    "plt.subplot(121)\n",
    "plt.plot(x_, w_freq[:30])\n",
    "plt.xticks(x_, w[:30], rotation=45)\n",
    "plt.xlabel(\"Ranking de palabras\")\n",
    "plt.ylabel(\"# total de ocurrencias\")\n",
    "\n",
    "plt.subplot(122)\n",
    "plt.plot(x_, l_freq[:30])\n",
    "plt.xticks(x_, l[:30], rotation=45)\n",
    "plt.xlabel(\"Ranking de pos tags\")\n",
    "plt.ylabel(\"# total de ocurrencias\")\n",
    "plt.show()"
   ]
  },
  {
   "cell_type": "markdown",
   "metadata": {},
   "source": [
    "Los gráficos anteriores se corresponden con la Ley de Zipf donde para las primeras palabras hay una gran cantidad de repeticiones (y además que son palabras que por lo general se tratan como *stopwords*) y que rápidamente decae al ir observando nuevas palabras. Como se mencionó anteriormente, las palabras que más se repiten en un dataset no preprocesado son las stopwords, palabras que por si no tienen un valor semántico.\n",
    "\n",
    "La Ley de Zipf tiene un fenómeno observable al aplicar el logarítmo a la frecuencia de las palabras. Esto produce que en la parte central del gráfico se pueda interpretar como una función lineal, tal como se ve en el caso de la frecuencia de los lemmas. Para la frecuencia de los labels no se da este fenómeno pues no se está analizando la frecuencia de palabras, sino de los tags."
   ]
  },
  {
   "cell_type": "code",
   "execution_count": 14,
   "metadata": {},
   "outputs": [
    {
     "data": {
      "image/png": "[encoded data removed]",
      "text/plain": [
       "<Figure size 1080x504 with 2 Axes>"
      ]
     },
     "metadata": {},
     "output_type": "display_data"
    }
   ],
   "source": [
    "plt.subplot(121)\n",
    "plt.loglog(np.arange(len(w)), w_freq)\n",
    "plt.title(\"Frecuencia lemmas\")\n",
    "plt.subplot(122)\n",
    "plt.loglog(np.arange(len(l)), l_freq)\n",
    "plt.title(\"Frecuencia labels\")\n",
    "plt.show()"
   ]
  },
  {
   "cell_type": "markdown",
   "metadata": {},
   "source": [
    "> c) Es necesario transformar los textos para que puedan ser entregados apropiadamente a la red, por lo será necesario crear una función que codifique cada posible *lemma* a un número y cada posible *tag* a otro número, utilice esta función sobre las sentencias y *tags* ya generados. Mida cual es el largo máximo de entre todas las sentencias, la cantidad de *lemmas* y etiquetas. Además de esto, debido al largo distinto de las sentencias se deberá realizar *padding* para estandarizar el largo, considere algun carácter especial para codificar el espacio en blanco que luego se le deberá rellenar, por ejemplo si el largo máximo es de 4 y se tiene la sentencia \"the rocket\" codificada como [32,4] será necesario agregar un *lemma* que codificado significará el fin de la sentencia \"the rocket *ENDPAD ENDPAD*\" y codificado quedará como [32,4,*0, 0*]."
   ]
  },
  {
   "cell_type": "markdown",
   "metadata": {},
   "source": [
    "Primero determinamos el tamaño de la sentencia más larga. Con esto podrá hacerse un padding para que todas las sentencias tengan la misma dimensión."
   ]
  },
  {
   "cell_type": "code",
   "execution_count": 12,
   "metadata": {},
   "outputs": [
    {
     "name": "stdout",
     "output_type": "stream",
     "text": [
      "Tamaño sentencia más larga:  81\n"
     ]
    }
   ],
   "source": [
    "max_len = 0\n",
    "for lemma in dataX:\n",
    "    max_len = max(len(lemma), max_len)\n",
    "print(\"Tamaño sentencia más larga: \", max_len)"
   ]
  },
  {
   "cell_type": "markdown",
   "metadata": {},
   "source": [
    "El largo máximo es 81, por lo que hay que agregar un delimitador que indique cuando hay padding. Si se observan los histogramas de largo de sentencias se ve que la mayoría de las sentencias tienen un largo menor a 81. Es por esto que se introducirá una gran cantidad de información a la matriz de datos, pero esta \n",
    "\n",
    "A su vez, se agrega el lemma *ENDPAD* que indica espacios en blancos en una sentencia, para dejarlas todas del mismo largo, y su correspondiente label *ENDP*."
   ]
  },
  {
   "cell_type": "code",
   "execution_count": 13,
   "metadata": {},
   "outputs": [],
   "source": [
    "lemmas.add(\"ENDPAD\")\n",
    "labels.add(\"ENDPAD\")"
   ]
  },
  {
   "cell_type": "markdown",
   "metadata": {},
   "source": [
    "Antes de hacer el cambio de palabras a índices, la primera sentencia es de la siguiente forma."
   ]
  },
  {
   "cell_type": "code",
   "execution_count": 14,
   "metadata": {},
   "outputs": [
    {
     "name": "stdout",
     "output_type": "stream",
     "text": [
      "['thousand' 'of' 'demonstr' 'have' 'march' 'through' 'london' 'to'\n",
      " 'protest' 'the' 'war' 'in' 'iraq' 'and' 'demand' 'the' 'withdraw' 'of'\n",
      " 'british' 'troop' 'from' 'that' 'countri' '.']\n"
     ]
    }
   ],
   "source": [
    "print(dataX[0])"
   ]
  },
  {
   "cell_type": "markdown",
   "metadata": {},
   "source": [
    "Así, se hace la conversión de lemmas y labels a números. dataX y dataY se cambian para contener sentencias con los índices de cada palabra."
   ]
  },
  {
   "cell_type": "code",
   "execution_count": 15,
   "metadata": {},
   "outputs": [],
   "source": [
    "lemma2idx = {w: i for i, w in enumerate(lemmas)} # Convertir texto a numeros\n",
    "lab2idx = {t: i for i, t in enumerate(labels)} # Convertir labels a numeros\n",
    "dataX = [[lemma2idx[lemma] for lemma in sentence ] for sentence in dataX]\n",
    "dataY = [[lab2idx[pos] for pos in pos_tags ] for pos_tags in dataY]\n",
    "n_lemmas = len(lemmas)\n",
    "n_labels = len(labels)"
   ]
  },
  {
   "cell_type": "markdown",
   "metadata": {},
   "source": [
    "Con el cambio, la primera sentencia queda como se muestra a continuación."
   ]
  },
  {
   "cell_type": "code",
   "execution_count": 16,
   "metadata": {},
   "outputs": [
    {
     "name": "stdout",
     "output_type": "stream",
     "text": [
      "[10293, 7776, 16500, 13036, 13031, 12686, 16502, 1100, 5509, 14759, 9731, 15135, 9381, 1117, 3241, 14759, 826, 7776, 3752, 17146, 14005, 19085, 19325, 9856]\n"
     ]
    }
   ],
   "source": [
    "print(dataX[0])"
   ]
  },
  {
   "cell_type": "code",
   "execution_count": 17,
   "metadata": {},
   "outputs": [],
   "source": [
    "X = sequence.pad_sequences(dataX, maxlen=max_len, padding=\"post\", value=lemma2idx[\"ENDPAD\"])\n",
    "y = sequence.pad_sequences(dataY, maxlen=max_len, padding=\"post\", value=lab2idx[\"ENDPAD\"])"
   ]
  },
  {
   "cell_type": "code",
   "execution_count": 18,
   "metadata": {},
   "outputs": [
    {
     "name": "stdout",
     "output_type": "stream",
     "text": [
      "[10293  7776 16500 13036 13031 12686 16502  1100  5509 14759  9731 15135\n",
      "  9381  1117  3241 14759   826  7776  3752 17146 14005 19085 19325  9856\n",
      " 10054 10054 10054 10054 10054 10054 10054 10054 10054 10054 10054 10054\n",
      " 10054 10054 10054 10054 10054 10054 10054 10054 10054 10054 10054 10054\n",
      " 10054 10054 10054 10054 10054 10054 10054 10054 10054 10054 10054 10054\n",
      " 10054 10054 10054 10054 10054 10054 10054 10054 10054 10054 10054 10054\n",
      " 10054 10054 10054 10054 10054 10054 10054 10054 10054]\n"
     ]
    }
   ],
   "source": [
    "print(X[0])"
   ]
  },
  {
   "cell_type": "code",
   "execution_count": 19,
   "metadata": {},
   "outputs": [
    {
     "name": "stdout",
     "output_type": "stream",
     "text": [
      "[26  6 26  9 39  6 28 41 25 27 14  6 28 23 25 27 14  6 24 26  6 27 14 12\n",
      " 36 36 36 36 36 36 36 36 36 36 36 36 36 36 36 36 36 36 36 36 36 36 36 36\n",
      " 36 36 36 36 36 36 36 36 36 36 36 36 36 36 36 36 36 36 36 36 36 36 36 36\n",
      " 36 36 36 36 36 36 36 36 36]\n"
     ]
    }
   ],
   "source": [
    "print(y[0])"
   ]
  },
  {
   "cell_type": "code",
   "execution_count": 20,
   "metadata": {},
   "outputs": [
    {
     "name": "stdout",
     "output_type": "stream",
     "text": [
      "10054\n",
      "36\n"
     ]
    }
   ],
   "source": [
    "print(lemma2idx['ENDPAD'])\n",
    "print(lab2idx['ENDPAD'])"
   ]
  },
  {
   "cell_type": "code",
   "execution_count": 21,
   "metadata": {},
   "outputs": [
    {
     "data": {
      "text/plain": [
       "(48081, 81)"
      ]
     },
     "execution_count": 21,
     "metadata": {},
     "output_type": "execute_result"
    }
   ],
   "source": [
    "X.shape"
   ]
  },
  {
   "cell_type": "markdown",
   "metadata": {},
   "source": [
    "> d) Realice el *padding* anteriormente mencionado, decida sobre qué le parece mas conveniente al rellenar con el valor especial ¿Al principio o al final de la sentencia? Comente"
   ]
  },
  {
   "cell_type": "markdown",
   "metadata": {},
   "source": [
    "En el punto anterior se aplicó padding al final de las sentencias. Se prefiere dejar al final de la oración pues es fácil identificar la hubicación de la información, si esta está siempre al comienzo del arreglo, y a su vez es fácil identificar cuando esta termina con solo llegar a la etiqueta *ENDPAD*.\n",
    "\n",
    "Dependiendo del dominio del problema puede ser más conveniente colocar en un lugar el padding en vez del otro."
   ]
  },
  {
   "cell_type": "markdown",
   "metadata": {},
   "source": [
    "> e) Para el poder entregar una clasificación sobre los distintos *pos tagger* es necesario tranformarlas a *one hot vectors*, debido a que están codificadas en números enteros, con esto se quedará con un arreglo tridimensional con la cantidad de ejemplos, la cantidad máxima de palabras y la cantidad de posibles *pos tags*. Luego de esto cree los conjuntos de entrenamiento y de prueba con el código a continuación ¿Cuáles son las dimensiones de entrada y salida de cada conjunto? Comente"
   ]
  },
  {
   "cell_type": "code",
   "execution_count": 22,
   "metadata": {},
   "outputs": [
    {
     "name": "stdout",
     "output_type": "stream",
     "text": [
      "Dimensión X sentencias:  (48081, 81)\n",
      "Dimensión y post tags :  (48081, 81)\n"
     ]
    }
   ],
   "source": [
    "print(\"Dimensión X sentencias: \", X.shape)\n",
    "print(\"Dimensión y post tags : \", y.shape)"
   ]
  },
  {
   "cell_type": "code",
   "execution_count": 23,
   "metadata": {},
   "outputs": [],
   "source": [
    "y = np.asarray([to_categorical(i, num_classes=n_labels) for i in y])"
   ]
  },
  {
   "cell_type": "code",
   "execution_count": 24,
   "metadata": {},
   "outputs": [
    {
     "data": {
      "text/plain": [
       "(48081, 81, 42)"
      ]
     },
     "execution_count": 24,
     "metadata": {},
     "output_type": "execute_result"
    }
   ],
   "source": [
    "y.shape"
   ]
  },
  {
   "cell_type": "code",
   "execution_count": 25,
   "metadata": {},
   "outputs": [],
   "source": [
    "X_train, X_test, y_train, y_test = train_test_split(X, y, test_size=0.3,random_state=22)"
   ]
  },
  {
   "cell_type": "code",
   "execution_count": 26,
   "metadata": {},
   "outputs": [
    {
     "name": "stdout",
     "output_type": "stream",
     "text": [
      "Tamaño X_train:  (33656, 81)\n",
      "Tamaño y_train:  (33656, 81, 42)\n",
      "Tamaño X_test :  (14425, 81)\n",
      "Tamaño y_test :  (14425, 81, 42)\n"
     ]
    }
   ],
   "source": [
    "print(\"Tamaño X_train: \", X_train.shape)\n",
    "print(\"Tamaño y_train: \", y_train.shape)\n",
    "print(\"Tamaño X_test : \", X_test.shape)\n",
    "print(\"Tamaño y_test : \", y_test.shape)"
   ]
  },
  {
   "cell_type": "markdown",
   "metadata": {},
   "source": [
    "> f) Defina una red neuronal recurrente *many to many* con compuertas LSTM para aprender a *tagear* el texto, entrenela y evalúe su desempeño sobre ambos conjuntos. Esta red debe procesar la secuencia de *lemmas* rellenados (o sin rellenar) y entregar el *pos tag* a cada uno de estos *lemmas*, por lo que la salida de la red no es un vector como anteriormente se ha trabajado, sino que tiene una dimensión extra la cual es debido a que en cada instante de tiempo se necesita entregar un *output*. Como los *lemmas* corresponden a datos esencialmente categóricos, o al menos discretos, es necesario generar una representación vectorial de ellas. La primera capa de la red a construir debe por lo tanto incluir una transformación entrenable desde el espacio de representación original (discreto) a ${\\rm I\\!R}^{d}$ , con $d$ la dimensionalidad del *embedding*. Comente sobre los cambios que sufre un dato al ingresar a la red y la cantidad de parámetros de la red."
   ]
  },
  {
   "cell_type": "markdown",
   "metadata": {},
   "source": [
    "# agregar calculo de dimensión"
   ]
  },
  {
   "cell_type": "code",
   "execution_count": 40,
   "metadata": {},
   "outputs": [
    {
     "name": "stdout",
     "output_type": "stream",
     "text": [
      "_________________________________________________________________\n",
      "Layer (type)                 Output Shape              Param #   \n",
      "=================================================================\n",
      "embedding_2 (Embedding)      (None, 81, 32)            647808    \n",
      "_________________________________________________________________\n",
      "lstm_2 (LSTM)                (None, 81, 100)           53200     \n",
      "_________________________________________________________________\n",
      "dense_2 (Dense)              (None, 81, 42)            4242      \n",
      "=================================================================\n",
      "Total params: 705,250\n",
      "Trainable params: 705,250\n",
      "Non-trainable params: 0\n",
      "_________________________________________________________________\n"
     ]
    },
    {
     "name": "stderr",
     "output_type": "stream",
     "text": [
      "/home/nacho/anaconda3/envs/redesneuronales/lib/python3.6/site-packages/ipykernel_launcher.py:8: UserWarning: The `nb_epoch` argument in `fit` has been renamed `epochs`.\n",
      "  \n"
     ]
    },
    {
     "name": "stdout",
     "output_type": "stream",
     "text": [
      "Train on 33656 samples, validate on 14425 samples\n",
      "Epoch 1/3\n",
      "33656/33656 [==============================] - 52s 2ms/step - loss: 1.0717 - acc: 0.7491 - val_loss: 0.7590 - val_acc: 0.7935\n",
      "Epoch 2/3\n",
      "33656/33656 [==============================] - 50s 1ms/step - loss: 0.6029 - acc: 0.8372 - val_loss: 0.4029 - val_acc: 0.8881\n",
      "Epoch 3/3\n",
      "33656/33656 [==============================] - 51s 2ms/step - loss: 0.2690 - acc: 0.9294 - val_loss: 0.1811 - val_acc: 0.9526\n"
     ]
    }
   ],
   "source": [
    "embedding_vector = 32\n",
    "model = Sequential()\n",
    "model.add(Embedding(input_dim=n_lemmas, output_dim=embedding_vector, input_length=max_len))\n",
    "model.add(LSTM(units=100,return_sequences=True))\n",
    "model.add(Dense(n_labels, activation='softmax'))\n",
    "model.summary()\n",
    "model.compile(loss='categorical_crossentropy', optimizer='adam', metrics=['accuracy'])\n",
    "results = model.fit(X_train, y_train, validation_data=(X_test, y_test), nb_epoch=3, batch_size=128)\n",
    "scores = model.evaluate(X_test, y_test, verbose=0)"
   ]
  },
  {
   "cell_type": "code",
   "execution_count": 41,
   "metadata": {},
   "outputs": [
    {
     "name": "stdout",
     "output_type": "stream",
     "text": [
      "Loss: 0.1811\tAccuracy: 0.9526\n"
     ]
    }
   ],
   "source": [
    "print(\"Loss: %.4f\\tAccuracy: %.4f\" % (scores[0], scores[1]))"
   ]
  },
  {
   "cell_type": "markdown",
   "metadata": {},
   "source": [
    "Se tiene un buen desempeño de la red con un 95.3% de accuracy."
   ]
  },
  {
   "cell_type": "code",
   "execution_count": 65,
   "metadata": {},
   "outputs": [
    {
     "data": {
      "image/png": "[encoded data removed]",
      "text/plain": [
       "<Figure size 1080x504 with 4 Axes>"
      ]
     },
     "metadata": {},
     "output_type": "display_data"
    }
   ],
   "source": [
    "plt.suptitle(\"Accuracy y Loss para el entrenamiento de la red con LSTM\")\n",
    "plt.subplot(221)\n",
    "plt.plot(range(1,4), results.history['acc'])\n",
    "plt.ylabel('Accuracy')\n",
    "plt.title('Accuracy en entrenamiento')\n",
    "plt.subplot(222)\n",
    "plt.plot(range(1,4), results.history['val_acc'])\n",
    "plt.ylabel('Accuracy')\n",
    "plt.title('Accuracy en testing')\n",
    "plt.subplot(223)\n",
    "plt.plot(range(1,4), results.history['loss'])\n",
    "plt.ylabel('Loss')\n",
    "plt.xlabel('epochs')\n",
    "plt.title('Loss en entrenamiento')\n",
    "plt.subplot(224)\n",
    "plt.plot(range(1,4), results.history['val_loss'])\n",
    "plt.ylabel('Loss')\n",
    "plt.xlabel('epochs')\n",
    "plt.title('Loss en testing')\n",
    "plt.show()"
   ]
  },
  {
   "cell_type": "markdown",
   "metadata": {},
   "source": [
    "> g) Varı́e la dimensionalidad del embedding inicial y determine si aumenta o disminuye el error de clasificación. Comente."
   ]
  },
  {
   "cell_type": "code",
   "execution_count": 25,
   "metadata": {
    "scrolled": true
   },
   "outputs": [
    {
     "name": "stdout",
     "output_type": "stream",
     "text": [
      "---- Dimensión Embedding 16 ----\n",
      "_________________________________________________________________\n",
      "Layer (type)                 Output Shape              Param #   \n",
      "=================================================================\n",
      "embedding_1 (Embedding)      (None, 81, 16)            323904    \n",
      "_________________________________________________________________\n",
      "lstm_1 (LSTM)                (None, 81, 100)           46800     \n",
      "_________________________________________________________________\n",
      "dense_1 (Dense)              (None, 81, 42)            4242      \n",
      "=================================================================\n",
      "Total params: 374,946\n",
      "Trainable params: 374,946\n",
      "Non-trainable params: 0\n",
      "_________________________________________________________________\n",
      "Train on 33656 samples, validate on 14425 samples\n",
      "Epoch 1/3\n",
      "33656/33656 [==============================] - 45s 1ms/step - loss: 1.1094 - acc: 0.7407 - val_loss: 0.7905 - val_acc: 0.7764\n",
      "Epoch 2/3\n",
      "33656/33656 [==============================] - 43s 1ms/step - loss: 0.7123 - acc: 0.8079 - val_loss: 0.5857 - val_acc: 0.8478\n",
      "Epoch 3/3\n",
      "33656/33656 [==============================] - 43s 1ms/step - loss: 0.4541 - acc: 0.8720 - val_loss: 0.3364 - val_acc: 0.9055\n",
      "Tiempo embeding 16 : 130.6331446170807\n",
      "---- Dimensión Embedding 32 ----\n",
      "_________________________________________________________________\n",
      "Layer (type)                 Output Shape              Param #   \n",
      "=================================================================\n",
      "embedding_2 (Embedding)      (None, 81, 32)            647808    \n",
      "_________________________________________________________________\n",
      "lstm_2 (LSTM)                (None, 81, 100)           53200     \n",
      "_________________________________________________________________\n",
      "dense_2 (Dense)              (None, 81, 42)            4242      \n",
      "=================================================================\n",
      "Total params: 705,250\n",
      "Trainable params: 705,250\n",
      "Non-trainable params: 0\n",
      "_________________________________________________________________\n",
      "Train on 33656 samples, validate on 14425 samples\n",
      "Epoch 1/3\n",
      "33656/33656 [==============================] - 42s 1ms/step - loss: 1.0708 - acc: 0.7493 - val_loss: 0.7638 - val_acc: 0.7946\n",
      "Epoch 2/3\n",
      "33656/33656 [==============================] - 41s 1ms/step - loss: 0.6181 - acc: 0.8343 - val_loss: 0.4254 - val_acc: 0.8783\n",
      "Epoch 3/3\n",
      "33656/33656 [==============================] - 42s 1ms/step - loss: 0.2869 - acc: 0.9245 - val_loss: 0.1842 - val_acc: 0.9536\n",
      "Tiempo embeding 32 : 126.28529334068298\n",
      "---- Dimensión Embedding 42 ----\n",
      "_________________________________________________________________\n",
      "Layer (type)                 Output Shape              Param #   \n",
      "=================================================================\n",
      "embedding_3 (Embedding)      (None, 81, 42)            850248    \n",
      "_________________________________________________________________\n",
      "lstm_3 (LSTM)                (None, 81, 100)           57200     \n",
      "_________________________________________________________________\n",
      "dense_3 (Dense)              (None, 81, 42)            4242      \n",
      "=================================================================\n",
      "Total params: 911,690\n",
      "Trainable params: 911,690\n",
      "Non-trainable params: 0\n",
      "_________________________________________________________________\n",
      "Train on 33656 samples, validate on 14425 samples\n",
      "Epoch 1/3\n",
      "33656/33656 [==============================] - 45s 1ms/step - loss: 1.0630 - acc: 0.7527 - val_loss: 0.7459 - val_acc: 0.7942\n",
      "Epoch 2/3\n",
      "33656/33656 [==============================] - 44s 1ms/step - loss: 0.5584 - acc: 0.8518 - val_loss: 0.3471 - val_acc: 0.9115\n",
      "Epoch 3/3\n",
      "33656/33656 [==============================] - 46s 1ms/step - loss: 0.2256 - acc: 0.9436 - val_loss: 0.1517 - val_acc: 0.9609\n",
      "Tiempo embeding 42 : 135.67986750602722\n",
      "---- Dimensión Embedding 64 ----\n",
      "_________________________________________________________________\n",
      "Layer (type)                 Output Shape              Param #   \n",
      "=================================================================\n",
      "embedding_4 (Embedding)      (None, 81, 64)            1295616   \n",
      "_________________________________________________________________\n",
      "lstm_4 (LSTM)                (None, 81, 100)           66000     \n",
      "_________________________________________________________________\n",
      "dense_4 (Dense)              (None, 81, 42)            4242      \n",
      "=================================================================\n",
      "Total params: 1,365,858\n",
      "Trainable params: 1,365,858\n",
      "Non-trainable params: 0\n",
      "_________________________________________________________________\n",
      "Train on 33656 samples, validate on 14425 samples\n",
      "Epoch 1/3\n",
      "33656/33656 [==============================] - 46s 1ms/step - loss: 1.0414 - acc: 0.7573 - val_loss: 0.7258 - val_acc: 0.8173\n",
      "Epoch 2/3\n",
      "33656/33656 [==============================] - 46s 1ms/step - loss: 0.4687 - acc: 0.8834 - val_loss: 0.2455 - val_acc: 0.9420\n",
      "Epoch 3/3\n",
      "33656/33656 [==============================] - 47s 1ms/step - loss: 0.1622 - acc: 0.9592 - val_loss: 0.1225 - val_acc: 0.9662\n",
      "Tiempo embeding 64 : 139.92213940620422\n",
      "---- Dimensión Embedding 81 ----\n",
      "_________________________________________________________________\n",
      "Layer (type)                 Output Shape              Param #   \n",
      "=================================================================\n",
      "embedding_5 (Embedding)      (None, 81, 81)            1639764   \n",
      "_________________________________________________________________\n",
      "lstm_5 (LSTM)                (None, 81, 100)           72800     \n",
      "_________________________________________________________________\n",
      "dense_5 (Dense)              (None, 81, 42)            4242      \n",
      "=================================================================\n",
      "Total params: 1,716,806\n",
      "Trainable params: 1,716,806\n",
      "Non-trainable params: 0\n",
      "_________________________________________________________________\n",
      "Train on 33656 samples, validate on 14425 samples\n",
      "Epoch 1/3\n",
      "33656/33656 [==============================] - 50s 1ms/step - loss: 1.0053 - acc: 0.7678 - val_loss: 0.6637 - val_acc: 0.8260\n",
      "Epoch 2/3\n",
      "33656/33656 [==============================] - 50s 1ms/step - loss: 0.3874 - acc: 0.8969 - val_loss: 0.1975 - val_acc: 0.9520\n",
      "Epoch 3/3\n",
      "33656/33656 [==============================] - 49s 1ms/step - loss: 0.1378 - acc: 0.9640 - val_loss: 0.1113 - val_acc: 0.9684\n",
      "Tiempo embeding 81 : 150.14668607711792\n",
      "---- Dimensión Embedding 128 ----\n",
      "_________________________________________________________________\n",
      "Layer (type)                 Output Shape              Param #   \n",
      "=================================================================\n",
      "embedding_6 (Embedding)      (None, 81, 128)           2591232   \n",
      "_________________________________________________________________\n",
      "lstm_6 (LSTM)                (None, 81, 100)           91600     \n",
      "_________________________________________________________________\n",
      "dense_6 (Dense)              (None, 81, 42)            4242      \n",
      "=================================================================\n",
      "Total params: 2,687,074\n",
      "Trainable params: 2,687,074\n",
      "Non-trainable params: 0\n",
      "_________________________________________________________________\n",
      "Train on 33656 samples, validate on 14425 samples\n",
      "Epoch 1/3\n",
      "33656/33656 [==============================] - 54s 2ms/step - loss: 0.9847 - acc: 0.7694 - val_loss: 0.6059 - val_acc: 0.8490\n",
      "Epoch 2/3\n",
      "33656/33656 [==============================] - 53s 2ms/step - loss: 0.3242 - acc: 0.9199 - val_loss: 0.1639 - val_acc: 0.9590\n",
      "Epoch 3/3\n",
      "33656/33656 [==============================] - 53s 2ms/step - loss: 0.1171 - acc: 0.9680 - val_loss: 0.0995 - val_acc: 0.9706\n",
      "Tiempo embeding 128 : 161.00789594650269\n",
      "---- Dimensión Embedding 256 ----\n",
      "_________________________________________________________________\n",
      "Layer (type)                 Output Shape              Param #   \n",
      "=================================================================\n",
      "embedding_7 (Embedding)      (None, 81, 256)           5182464   \n",
      "_________________________________________________________________\n",
      "lstm_7 (LSTM)                (None, 81, 100)           142800    \n",
      "_________________________________________________________________\n",
      "dense_7 (Dense)              (None, 81, 42)            4242      \n",
      "=================================================================\n",
      "Total params: 5,329,506\n",
      "Trainable params: 5,329,506\n",
      "Non-trainable params: 0\n",
      "_________________________________________________________________\n"
     ]
    },
    {
     "name": "stdout",
     "output_type": "stream",
     "text": [
      "Train on 33656 samples, validate on 14425 samples\n",
      "Epoch 1/3\n",
      "33656/33656 [==============================] - 65s 2ms/step - loss: 0.8576 - acc: 0.8012 - val_loss: 0.3643 - val_acc: 0.9100\n",
      "Epoch 2/3\n",
      "33656/33656 [==============================] - 66s 2ms/step - loss: 0.1795 - acc: 0.9553 - val_loss: 0.1090 - val_acc: 0.9686\n",
      "Epoch 3/3\n",
      "33656/33656 [==============================] - 66s 2ms/step - loss: 0.0862 - acc: 0.9738 - val_loss: 0.0834 - val_acc: 0.9737\n",
      "Tiempo embeding 256 : 198.1886179447174\n"
     ]
    }
   ],
   "source": [
    "score_models = {}\n",
    "times = {}\n",
    "embedding_vectors = [16, 32, 42, 64, 81, 128, 256]\n",
    "for size in embedding_vectors:\n",
    "    print(\"---- Dimensión Embedding %d ----\" % size)\n",
    "    model = Sequential()\n",
    "    model.add(Embedding(input_dim=n_lemmas, output_dim=size, input_length=max_len))\n",
    "    model.add(LSTM(units=100,return_sequences=True))\n",
    "    model.add(Dense(n_labels, activation='softmax'))\n",
    "    model.summary()\n",
    "    model.compile(loss='categorical_crossentropy', optimizer='adam', metrics=['accuracy'])\n",
    "    start_time = time.time()\n",
    "    model.fit(X_train, y_train, validation_data=(X_test, y_test), epochs=3, batch_size=128)\n",
    "    duration = time.time()-start_time\n",
    "    print(\"Tiempo embeding {} : {}\".format(size, duration))\n",
    "    score_models[size] = model.evaluate(X_test, y_test, verbose=0)\n",
    "    times[size] = duration"
   ]
  },
  {
   "cell_type": "code",
   "execution_count": 30,
   "metadata": {},
   "outputs": [
    {
     "name": "stdout",
     "output_type": "stream",
     "text": [
      "E.V: 16,\t Acc: 0.905\tLoss: 0.336\tTime:130.6\n",
      "E.V: 32,\t Acc: 0.954\tLoss: 0.184\tTime:126.3\n",
      "E.V: 42,\t Acc: 0.961\tLoss: 0.152\tTime:135.7\n",
      "E.V: 64,\t Acc: 0.966\tLoss: 0.122\tTime:139.9\n",
      "E.V: 81,\t Acc: 0.968\tLoss: 0.111\tTime:150.1\n",
      "E.V: 128,\t Acc: 0.971\tLoss: 0.099\tTime:161.0\n",
      "E.V: 256,\t Acc: 0.974\tLoss: 0.083\tTime:198.2\n"
     ]
    }
   ],
   "source": [
    "# imprimir errores y tiempo\n",
    "for size in embedding_vectors:\n",
    "    print(\"E.V: %d,\\t Acc: %.3f\\tLoss: %.3f\\tTime:%.1f\" %\n",
    "          (size, score_models[size][1], score_models[size][0], times[size]))"
   ]
  },
  {
   "cell_type": "markdown",
   "metadata": {},
   "source": [
    "> h) Use Dropout para entrenar la LSTM. ¿El Dropout mejora el desempeño de la red? Señale cuales podrı́an ser las causas del comportamiento observado."
   ]
  },
  {
   "cell_type": "code",
   "execution_count": 29,
   "metadata": {},
   "outputs": [
    {
     "name": "stdout",
     "output_type": "stream",
     "text": [
      "Train on 33656 samples, validate on 14425 samples\n",
      "Epoch 1/3\n",
      "33656/33656 [==============================] - 53s 2ms/step - loss: 1.0850 - acc: 0.7464 - val_loss: 0.7700 - val_acc: 0.7864\n",
      "Epoch 2/3\n",
      "33656/33656 [==============================] - 47s 1ms/step - loss: 0.6621 - acc: 0.8186 - val_loss: 0.4628 - val_acc: 0.8764\n",
      "Epoch 3/3\n",
      "33656/33656 [==============================] - 46s 1ms/step - loss: 0.3286 - acc: 0.9119 - val_loss: 0.2030 - val_acc: 0.9478\n"
     ]
    }
   ],
   "source": [
    "embedding_vector = 32\n",
    "model = Sequential()\n",
    "model.add(Embedding(input_dim=n_lemmas, output_dim=embedding_vector, input_length=max_len))\n",
    "model.add(LSTM(units=100,return_sequences=True)) #or recurrent_dropout=0.2\n",
    "model.add(Dropout(0.2))\n",
    "model.add(Dense(n_labels, activation='softmax'))\n",
    "model.compile(loss='categorical_crossentropy', optimizer='adam', metrics=['accuracy'])\n",
    "start_time = time.time()\n",
    "hist = model.fit(X_train, y_train, validation_data=(X_test, y_test), epochs=3, batch_size=128)\n",
    "duration = time.time() - start_time\n",
    "score = model.evaluate(X_test, y_test, verbose=0)"
   ]
  },
  {
   "cell_type": "code",
   "execution_count": 30,
   "metadata": {},
   "outputs": [
    {
     "name": "stdout",
     "output_type": "stream",
     "text": [
      "{'val_loss': [0.7699954381683257, 0.46284172251691436, 0.20295822277949216], 'val_acc': [0.7864253145404664, 0.8764490662868969, 0.9478391836462235], 'loss': [1.0850297167546568, 0.6621341074705974, 0.32860888824812556], 'acc': [0.7463908620853449, 0.8185710452757342, 0.9118558287847232]}\n",
      "Loss: 0.203\tAccuracy: 0.948\tTiempo: 147.57\n"
     ]
    }
   ],
   "source": [
    "print(hist.history)\n",
    "print(\"Loss: %.3f\\tAccuracy: %.3f\\tTiempo: %.2f\" % (score[0], score[1],duration))"
   ]
  },
  {
   "cell_type": "markdown",
   "metadata": {},
   "source": [
    "> i) Algunos autores señalan la importante dependencia que existe en texto, no solo con las palabras anteriores, sino que con las que siguen. Mejore la red definida en f) utilizando una red neuronal recurrente Bidireccional, es decir, con recurrencia en ambas direcciones sobre la secuencia de *lemmas* de entrada. Comente cuál debiera ser la forma correcta de usar el parámetro *merge_mode* (concatenar, multiplicar, sumar o promediar) para este caso. Además comente las transformaciones que sufre el patrón de entrada al pasar por las capas. ¿Mejora o empeora el desempeño? Analice.\n"
   ]
  },
  {
   "cell_type": "code",
   "execution_count": 34,
   "metadata": {
    "scrolled": true
   },
   "outputs": [
    {
     "name": "stdout",
     "output_type": "stream",
     "text": [
      "_________________________________________________________________\n",
      "Layer (type)                 Output Shape              Param #   \n",
      "=================================================================\n",
      "embedding_3 (Embedding)      (None, 81, 32)            647808    \n",
      "_________________________________________________________________\n",
      "bidirectional_2 (Bidirection (None, 81, 100)           106400    \n",
      "_________________________________________________________________\n",
      "dense_3 (Dense)              (None, 81, 42)            4242      \n",
      "=================================================================\n",
      "Total params: 758,450\n",
      "Trainable params: 758,450\n",
      "Non-trainable params: 0\n",
      "_________________________________________________________________\n",
      "Train on 33656 samples, validate on 14425 samples\n",
      "Epoch 1/3\n",
      "33656/33656 [==============================] - 72s 2ms/step - loss: 0.9659 - acc: 0.7605 - val_loss: 0.7024 - val_acc: 0.8145\n",
      "Epoch 2/3\n",
      "33656/33656 [==============================] - 73s 2ms/step - loss: 0.4656 - acc: 0.8782 - val_loss: 0.2342 - val_acc: 0.9407\n",
      "Epoch 3/3\n",
      "33656/33656 [==============================] - 67s 2ms/step - loss: 0.1463 - acc: 0.9612 - val_loss: 0.1062 - val_acc: 0.9691\n",
      "Tiempo mode sum: 212.91\n",
      "_________________________________________________________________\n",
      "Layer (type)                 Output Shape              Param #   \n",
      "=================================================================\n",
      "embedding_4 (Embedding)      (None, 81, 32)            647808    \n",
      "_________________________________________________________________\n",
      "bidirectional_3 (Bidirection (None, 81, 100)           106400    \n",
      "_________________________________________________________________\n",
      "dense_4 (Dense)              (None, 81, 42)            4242      \n",
      "=================================================================\n",
      "Total params: 758,450\n",
      "Trainable params: 758,450\n",
      "Non-trainable params: 0\n",
      "_________________________________________________________________\n",
      "Train on 33656 samples, validate on 14425 samples\n",
      "Epoch 1/3\n",
      "33656/33656 [==============================] - 73s 2ms/step - loss: 1.1597 - acc: 0.7531 - val_loss: 0.7458 - val_acc: 0.8006\n",
      "Epoch 2/3\n",
      "33656/33656 [==============================] - 72s 2ms/step - loss: 0.5058 - acc: 0.8659 - val_loss: 0.2834 - val_acc: 0.9271\n",
      "Epoch 3/3\n",
      "33656/33656 [==============================] - 73s 2ms/step - loss: 0.1805 - acc: 0.9539 - val_loss: 0.1288 - val_acc: 0.9652\n",
      "Tiempo mode mul: 219.22\n",
      "_________________________________________________________________\n",
      "Layer (type)                 Output Shape              Param #   \n",
      "=================================================================\n",
      "embedding_5 (Embedding)      (None, 81, 32)            647808    \n",
      "_________________________________________________________________\n",
      "bidirectional_4 (Bidirection (None, 81, 200)           106400    \n",
      "_________________________________________________________________\n",
      "dense_5 (Dense)              (None, 81, 42)            8442      \n",
      "=================================================================\n",
      "Total params: 762,650\n",
      "Trainable params: 762,650\n",
      "Non-trainable params: 0\n",
      "_________________________________________________________________\n",
      "Train on 33656 samples, validate on 14425 samples\n",
      "Epoch 1/3\n",
      "33656/33656 [==============================] - 85s 3ms/step - loss: 0.9684 - acc: 0.7620 - val_loss: 0.7105 - val_acc: 0.7955\n",
      "Epoch 2/3\n",
      "33656/33656 [==============================] - 85s 3ms/step - loss: 0.5276 - acc: 0.8510 - val_loss: 0.3253 - val_acc: 0.9080\n",
      "Epoch 3/3\n",
      "33656/33656 [==============================] - 78s 2ms/step - loss: 0.2037 - acc: 0.9445 - val_loss: 0.1293 - val_acc: 0.9636\n",
      "Tiempo mode concat: 249.54\n",
      "_________________________________________________________________\n",
      "Layer (type)                 Output Shape              Param #   \n",
      "=================================================================\n",
      "embedding_6 (Embedding)      (None, 81, 32)            647808    \n",
      "_________________________________________________________________\n",
      "bidirectional_5 (Bidirection (None, 81, 100)           106400    \n",
      "_________________________________________________________________\n",
      "dense_6 (Dense)              (None, 81, 42)            4242      \n",
      "=================================================================\n",
      "Total params: 758,450\n",
      "Trainable params: 758,450\n",
      "Non-trainable params: 0\n",
      "_________________________________________________________________\n",
      "Train on 33656 samples, validate on 14425 samples\n",
      "Epoch 1/3\n",
      "33656/33656 [==============================] - 82s 2ms/step - loss: 1.0242 - acc: 0.7491 - val_loss: 0.7445 - val_acc: 0.7770\n",
      "Epoch 2/3\n",
      "33656/33656 [==============================] - 78s 2ms/step - loss: 0.6436 - acc: 0.8222 - val_loss: 0.4658 - val_acc: 0.8771\n",
      "Epoch 3/3\n",
      "33656/33656 [==============================] - 75s 2ms/step - loss: 0.3249 - acc: 0.9115 - val_loss: 0.2171 - val_acc: 0.9453\n",
      "Tiempo mode ave: 236.95\n"
     ]
    }
   ],
   "source": [
    "modes = ['sum', 'mul', 'concat', 'ave']\n",
    "scores = []; hists = []; times = []\n",
    "\n",
    "for mode in modes:\n",
    "    model = Sequential()\n",
    "    model.add(Embedding(input_dim=n_lemmas, output_dim=embedding_vector, input_length=max_len))\n",
    "    layer_lstm = LSTM(units=100,return_sequences=True)\n",
    "    model.add(Bidirectional(layer_lstm,merge_mode=mode))\n",
    "    model.add(Dense(n_labels, activation='softmax'))\n",
    "    model.summary()\n",
    "    model.compile(loss='categorical_crossentropy', optimizer='adam', metrics=['accuracy'])\n",
    "    start_time = time.time()\n",
    "    hists.append(model.fit(X_train, y_train, validation_data=(X_test, y_test), epochs=3, batch_size=128))\n",
    "    duration = time.time() - start_time\n",
    "    times.append(duration)\n",
    "    scores.append(model.evaluate(X_test, y_test, verbose=0))\n",
    "    print(\"Tiempo mode %s: %.2f\"%(mode, duration))  "
   ]
  },
  {
   "cell_type": "code",
   "execution_count": 80,
   "metadata": {},
   "outputs": [
    {
     "name": "stdout",
     "output_type": "stream",
     "text": [
      "Mode: sum\tLoss: 0.106\tAcc: 0.969\tTiempo: 212.9\n",
      "Mode: mul\tLoss: 0.129\tAcc: 0.965\tTiempo: 219.2\n",
      "Mode: concat\tLoss: 0.129\tAcc: 0.964\tTiempo: 249.5\n",
      "Mode: ave\tLoss: 0.217\tAcc: 0.945\tTiempo: 236.9\n"
     ]
    },
    {
     "data": {
      "image/png": "[encoded data removed]",
      "text/plain": [
       "<Figure size 720x720 with 4 Axes>"
      ]
     },
     "metadata": {},
     "output_type": "display_data"
    }
   ],
   "source": [
    "for i in range(len(modes)):\n",
    "    print(\"Mode: {}\\tLoss: {:.3f}\\tAcc: {:.3f}\\tTiempo: {:.1f}\"\n",
    "          .format(modes[i],scores[i][0],scores[i][1],times[i]))\n",
    "    \n",
    "fig, axes = plt.subplots(nrows=2, ncols=2, figsize=(10,10))\n",
    "fig.subplots_adjust(hspace=0)\n",
    "for i, mode in enumerate(modes):\n",
    "    axes[0,0].plot(range(1,4), hists[i].history['acc'], label=mode)\n",
    "    axes[0,1].plot(range(1,4), hists[i].history['val_acc'], label=mode)\n",
    "    axes[1,0].plot(range(1,4), hists[i].history['loss'], label=mode)\n",
    "    axes[1,1].plot(range(1,4), hists[i].history['val_loss'], label=mode)\n",
    "axes[1,0].set_xlabel(\"epochs\")\n",
    "axes[1,1].set_xlabel(\"epochs\")\n",
    "axes[0,0].set_ylabel(\"Accuracy\")\n",
    "axes[1,0].set_ylabel(\"Loss\")\n",
    "axes[0,0].set_title(\"Training\")\n",
    "axes[0,1].set_title(\"Testing\")\n",
    "axes[0,0].legend()\n",
    "axes[0,1].legend()\n",
    "axes[1,0].legend()\n",
    "axes[1,1].legend()\n",
    "plt.suptitle(\"Accuracy y Loss para diferentes merge mode\")\n",
    "plt.show()\n"
   ]
  },
  {
   "cell_type": "markdown",
   "metadata": {},
   "source": [
    "> j) Utilice alguna de las red entrenadas, ojalá una con buen desempeño y muestre las predicciones, el *pos tager*, sobre algún ejemplo de pruebas, comente. Para entender qué son los símbolos *Part of speech tags* visite el siguiente link: https://www.ling.upenn.edu/courses/Fall_2003/ling001/penn_treebank_pos.html \n"
   ]
  },
  {
   "cell_type": "code",
   "execution_count": 81,
   "metadata": {},
   "outputs": [
    {
     "name": "stdout",
     "output_type": "stream",
     "text": [
      "_________________________________________________________________\n",
      "Layer (type)                 Output Shape              Param #   \n",
      "=================================================================\n",
      "embedding_7 (Embedding)      (None, 81, 32)            647808    \n",
      "_________________________________________________________________\n",
      "bidirectional_6 (Bidirection (None, 81, 100)           106400    \n",
      "_________________________________________________________________\n",
      "dense_7 (Dense)              (None, 81, 42)            4242      \n",
      "=================================================================\n",
      "Total params: 758,450\n",
      "Trainable params: 758,450\n",
      "Non-trainable params: 0\n",
      "_________________________________________________________________\n",
      "Train on 33656 samples, validate on 14425 samples\n",
      "Epoch 1/3\n",
      "33656/33656 [==============================] - 81s 2ms/step - loss: 0.9674 - acc: 0.7589 - val_loss: 0.6952 - val_acc: 0.8047\n",
      "Epoch 2/3\n",
      "33656/33656 [==============================] - 90s 3ms/step - loss: 0.4404 - acc: 0.8845 - val_loss: 0.2203 - val_acc: 0.9426\n",
      "Epoch 3/3\n",
      "33656/33656 [==============================] - 79s 2ms/step - loss: 0.1446 - acc: 0.9607 - val_loss: 0.1078 - val_acc: 0.9686\n",
      "Loss: 0.108\tAcc: 0.969\n"
     ]
    }
   ],
   "source": [
    "model = Sequential()\n",
    "model.add(Embedding(input_dim=n_lemmas, output_dim=embedding_vector, input_length=max_len))\n",
    "layer_lstm = LSTM(units=100,return_sequences=True)\n",
    "model.add(Bidirectional(layer_lstm,merge_mode='sum'))\n",
    "model.add(Dense(n_labels, activation='softmax'))\n",
    "model.summary()\n",
    "model.compile(loss='categorical_crossentropy', optimizer='adam', metrics=['accuracy'])\n",
    "model.fit(X_train, y_train, validation_data=(X_test, y_test), epochs=3, batch_size=128)\n",
    "score = model.evaluate(X_test, y_test, verbose=0)\n",
    "print(\"Loss: {:.3f}\\tAcc: {:.3f}\".format(score[0],score[1]))  "
   ]
  },
  {
   "cell_type": "code",
   "execution_count": 83,
   "metadata": {},
   "outputs": [
    {
     "name": "stdout",
     "output_type": "stream",
     "text": [
      "Se tomará el siguiente ejemplo: [11543  1782 13884  4764  1479   827  3560 16690  1479  1732 19062  4764\n",
      " 16690  7820 17383  1479  7807  2472 17011 14288  2056 11051 11076  2056\n",
      "  5525 16690  8433 13154 14432 14288 11750 14126  1479 12432 13137  4780\n",
      " 11890  1479 19432  8884 14980 14980 14980 14980 14980 14980 14980 14980\n",
      " 14980 14980 14980 14980 14980 14980 14980 14980 14980 14980 14980 14980\n",
      " 14980 14980 14980 14980 14980 14980 14980 14980 14980 14980 14980 14980\n",
      " 14980 14980 14980 14980 14980 14980 14980 14980 14980]\n"
     ]
    }
   ],
   "source": [
    "i = 10\n",
    "print(\"Se tomará el siguiente ejemplo: {}\".format(X_test[i]))"
   ]
  },
  {
   "cell_type": "code",
   "execution_count": 89,
   "metadata": {
    "scrolled": true
   },
   "outputs": [
    {
     "name": "stdout",
     "output_type": "stream",
     "text": [
      "Lemma          : Pred\n",
      "take           : VBZ\n",
      "it             : PRP\n",
      "up             : PRP$\n",
      ",              : ,\n",
      "the            : DT\n",
      "man            : NN\n",
      "return         : VBD\n",
      "to             : TO\n",
      "the            : DT\n",
      "same           : JJ\n",
      "place          : NN\n",
      ",              : ,\n",
      "to             : TO\n",
      "find           : VB\n",
      "that           : IN\n",
      "the            : DT\n",
      "wall           : NN\n",
      "under          : IN\n",
      "which          : WDT\n",
      "he             : PRP\n",
      "had            : VBD\n",
      "been           : VBN\n",
      "sit            : RB\n",
      "had            : VBN\n",
      "fallen         : VBN\n",
      "to             : TO\n",
      "piec           : VB\n",
      ";              : NNS\n",
      "and            : CC\n",
      "he             : PRP\n",
      "marvel         : NN\n",
      "at             : IN\n",
      "the            : DT\n",
      "servic         : NN\n",
      "render         : NN\n",
      "him            : PRP\n",
      "by             : IN\n",
      "the            : DT\n",
      "eagl           : NN\n",
      ".              : .\n",
      "ENDPAD         : ENDPAD\n",
      "ENDPAD         : ENDPAD\n",
      "ENDPAD         : ENDPAD\n",
      "ENDPAD         : ENDPAD\n",
      "ENDPAD         : ENDPAD\n",
      "ENDPAD         : ENDPAD\n",
      "ENDPAD         : ENDPAD\n",
      "ENDPAD         : ENDPAD\n",
      "ENDPAD         : ENDPAD\n",
      "ENDPAD         : ENDPAD\n",
      "ENDPAD         : ENDPAD\n",
      "ENDPAD         : ENDPAD\n",
      "ENDPAD         : ENDPAD\n",
      "ENDPAD         : ENDPAD\n",
      "ENDPAD         : ENDPAD\n",
      "ENDPAD         : ENDPAD\n",
      "ENDPAD         : ENDPAD\n",
      "ENDPAD         : ENDPAD\n",
      "ENDPAD         : ENDPAD\n",
      "ENDPAD         : ENDPAD\n",
      "ENDPAD         : ENDPAD\n",
      "ENDPAD         : ENDPAD\n",
      "ENDPAD         : ENDPAD\n",
      "ENDPAD         : ENDPAD\n",
      "ENDPAD         : ENDPAD\n",
      "ENDPAD         : ENDPAD\n",
      "ENDPAD         : ENDPAD\n",
      "ENDPAD         : ENDPAD\n",
      "ENDPAD         : ENDPAD\n",
      "ENDPAD         : ENDPAD\n",
      "ENDPAD         : ENDPAD\n",
      "ENDPAD         : ENDPAD\n",
      "ENDPAD         : ENDPAD\n",
      "ENDPAD         : ENDPAD\n",
      "ENDPAD         : ENDPAD\n",
      "ENDPAD         : ENDPAD\n",
      "ENDPAD         : ENDPAD\n",
      "ENDPAD         : ENDPAD\n",
      "ENDPAD         : ENDPAD\n",
      "ENDPAD         : ENDPAD\n",
      "ENDPAD         : ENDPAD\n"
     ]
    }
   ],
   "source": [
    "p = model.predict(np.array([X_test[i]]))\n",
    "p = np.argmax(p, axis=-1)\n",
    "print(\"{:15}: {}\".format(\"Lemma\", \"Pred\"))\n",
    "for w,pred in zip(X_test[i],p[0]):\n",
    "    print(\"{:15}: {}\".format(list(lemmas)[w],list(labels)[pred]))"
   ]
  },
  {
   "cell_type": "markdown",
   "metadata": {},
   "source": [
    "> k) Carge las palabras del dataset ¿Por qué no los *lemmas*? y cree el corpus con el cual se trabajará, además de crear la codificación de caracteres a números. Esto se presenta en el código a continuación además de crear la estrucutura de los datos con los que se va a trabajar (sub sentencias del corpus original). Utilice el tamaño del *corpus* que le acomode a la memoria de su computador."
   ]
  },
  {
   "cell_type": "code",
   "execution_count": 27,
   "metadata": {},
   "outputs": [
    {
     "name": "stdout",
     "output_type": "stream",
     "text": [
      "total chars: 72\n",
      "nb sequences: 242693\n"
     ]
    }
   ],
   "source": [
    "dataset = df_ner.loc[:,[\"word\",\"lemma\"]]\n",
    "text = ' '.join(dataset[\"word\"]).lower() #corpus\n",
    "null_character = \"*\"\n",
    "chars = [null_character]+sorted(list(set(text)))\n",
    "print('total chars:', len(chars))\n",
    "char_indices = {c: i for i, c in enumerate(chars)}\n",
    "indices_char = {i: c for i, c in enumerate(chars)}\n",
    "# cut the text in semi-redundant sequences of maxlen characters\n",
    "maxlen = 40\n",
    "step = 5 \n",
    "sentences = []\n",
    "next_chars = []\n",
    "size = int(len(text)*0.2) #solo un 20% del corpus\n",
    "for i in range(0, size - maxlen, step):\n",
    "    sentences.append(null_character+text[i: i + maxlen])\n",
    "    next_chars.append(text[i + maxlen])\n",
    "print('nb sequences:', len(sentences))"
   ]
  },
  {
   "cell_type": "markdown",
   "metadata": {},
   "source": [
    "> l) Procese las sentencias para así tenerlas codificadas en números que van a representar los carácteres, tal cual se realizó en c) con los *lemmas*, lo mismo para las etiquetas. Además de esto deberá realizar el *padding* correspondiente al comienzo de la sentencia, esto es para que la red aprenda cuando venga una frase mas corta de lo entrenado, este símbolo siignificará que no hay información. Transforme las etiquetas a *one hot vector* como se realizó en c) y defina la red similar a la presentada en f), con un *embedding* seguido de una capa recurrente GRU y la capa de clasificación. Aprovechese de la implementación más rápida de GRU respaldada por __[CuDNN](https://developer.nvidia.com/cudnn)__, una librería de CUDA (NVIDIA) para *Deep Neural Network*. "
   ]
  },
  {
   "cell_type": "markdown",
   "metadata": {},
   "source": [
    "Se generan los nuevos conjuntos de datos."
   ]
  },
  {
   "cell_type": "code",
   "execution_count": 28,
   "metadata": {},
   "outputs": [],
   "source": [
    "dataX = [[char_indices[char] for char in sentence ] for sentence in sentences]\n",
    "dataY = [char_indices[char] for char in next_chars]"
   ]
  },
  {
   "cell_type": "markdown",
   "metadata": {},
   "source": [
    "Confirmamos el largo mayor de los datos"
   ]
  },
  {
   "cell_type": "code",
   "execution_count": 29,
   "metadata": {},
   "outputs": [
    {
     "name": "stdout",
     "output_type": "stream",
     "text": [
      "Tamaño sentencia más larga:  41\n"
     ]
    }
   ],
   "source": [
    "max_len = 0\n",
    "for lemma in dataX:\n",
    "    max_len = max(len(lemma), max_len)\n",
    "print(\"Tamaño sentencia más larga: \", max_len)"
   ]
  },
  {
   "cell_type": "markdown",
   "metadata": {},
   "source": [
    "Se realiza el padding a los conjuntos de datos, pero esta vez se hará previamente a los datos, contrario a lo hecho en el punto c)."
   ]
  },
  {
   "cell_type": "code",
   "execution_count": 30,
   "metadata": {},
   "outputs": [],
   "source": [
    "X = sequence.pad_sequences(dataX, maxlen=max_len, padding=\"pre\", value=char_indices[null_character])\n",
    "y = np.asarray([to_categorical(i, num_classes=len(chars)) for i in dataY])"
   ]
  },
  {
   "cell_type": "markdown",
   "metadata": {},
   "source": [
    "Con esto las dimensiones de X e y son:"
   ]
  },
  {
   "cell_type": "code",
   "execution_count": 31,
   "metadata": {},
   "outputs": [
    {
     "name": "stdout",
     "output_type": "stream",
     "text": [
      "Dimensiones X: (242693, 41)\n",
      "Dimensiones y: (242693, 72)\n"
     ]
    }
   ],
   "source": [
    "print(\"Dimensiones X: {}\".format(X.shape))\n",
    "print(\"Dimensiones y: {}\".format(y.shape))"
   ]
  },
  {
   "cell_type": "markdown",
   "metadata": {},
   "source": [
    "La matrix X tendrá vectores de la siguiente forma"
   ]
  },
  {
   "cell_type": "code",
   "execution_count": 32,
   "metadata": {},
   "outputs": [
    {
     "data": {
      "text/plain": [
       "array([ 0, 33, 46, 36, 51,  1, 47, 38,  1, 36, 37, 45, 47, 46, 51, 52, 50,\n",
       "       33, 52, 47, 50, 51,  1, 40, 33, 54, 37,  1, 45, 33, 50, 35, 40, 37,\n",
       "       36,  1, 52, 40, 50, 47, 53], dtype=int32)"
      ]
     },
     "execution_count": 32,
     "metadata": {},
     "output_type": "execute_result"
    }
   ],
   "source": [
    "X[1]"
   ]
  },
  {
   "cell_type": "markdown",
   "metadata": {},
   "source": [
    "Y la matriz y será de la siguiente forma (one hot vector)"
   ]
  },
  {
   "cell_type": "code",
   "execution_count": 33,
   "metadata": {},
   "outputs": [
    {
     "data": {
      "text/plain": [
       "array([0., 0., 0., 0., 0., 0., 0., 0., 0., 0., 0., 0., 0., 0., 0., 0., 0.,\n",
       "       0., 0., 0., 0., 0., 0., 0., 0., 0., 0., 0., 0., 0., 0., 0., 0., 0.,\n",
       "       0., 0., 0., 0., 0., 1., 0., 0., 0., 0., 0., 0., 0., 0., 0., 0., 0.,\n",
       "       0., 0., 0., 0., 0., 0., 0., 0., 0., 0., 0., 0., 0., 0., 0., 0., 0.,\n",
       "       0., 0., 0., 0.], dtype=float32)"
      ]
     },
     "execution_count": 33,
     "metadata": {},
     "output_type": "execute_result"
    }
   ],
   "source": [
    "y[1]"
   ]
  },
  {
   "cell_type": "markdown",
   "metadata": {},
   "source": [
    "Se separa los datos en conjuntos de training y testing."
   ]
  },
  {
   "cell_type": "code",
   "execution_count": 34,
   "metadata": {},
   "outputs": [],
   "source": [
    "X_train, X_test, y_train, y_test = train_test_split(X, y, test_size=0.3,random_state=22)"
   ]
  },
  {
   "cell_type": "code",
   "execution_count": 35,
   "metadata": {},
   "outputs": [
    {
     "data": {
      "text/plain": [
       "array([[ 0, 37,  1, ..., 37,  1, 55],\n",
       "       [ 0, 47,  1, ..., 55, 41, 44],\n",
       "       [ 0,  1, 35, ..., 37, 52, 55],\n",
       "       ...,\n",
       "       [ 0, 35, 50, ..., 50,  1, 35],\n",
       "       [ 0,  1, 48, ..., 40, 47, 51],\n",
       "       [ 0,  1,  9, ..., 37,  1, 38]], dtype=int32)"
      ]
     },
     "execution_count": 35,
     "metadata": {},
     "output_type": "execute_result"
    }
   ],
   "source": [
    "X_train"
   ]
  },
  {
   "cell_type": "code",
   "execution_count": 64,
   "metadata": {},
   "outputs": [
    {
     "name": "stdout",
     "output_type": "stream",
     "text": [
      "Train on 169885 samples, validate on 72808 samples\n",
      "Epoch 1/10\n",
      "169885/169885 [==============================] - 158s 933us/step - loss: 2.4227 - acc: 0.2976 - val_loss: 2.0808 - val_acc: 0.3898\n",
      "Epoch 2/10\n",
      "169885/169885 [==============================] - 161s 948us/step - loss: 1.9199 - acc: 0.4348 - val_loss: 1.7565 - val_acc: 0.4826\n",
      "Epoch 3/10\n",
      "169885/169885 [==============================] - 156s 921us/step - loss: 1.6655 - acc: 0.5097 - val_loss: 1.5949 - val_acc: 0.5326\n",
      "Epoch 4/10\n",
      "169885/169885 [==============================] - 156s 920us/step - loss: 1.5088 - acc: 0.5540 - val_loss: 1.5073 - val_acc: 0.5576\n",
      "Epoch 5/10\n",
      "169885/169885 [==============================] - 160s 941us/step - loss: 1.3926 - acc: 0.5856 - val_loss: 1.4652 - val_acc: 0.5730\n",
      "Epoch 6/10\n",
      "169885/169885 [==============================] - 162s 951us/step - loss: 1.2987 - acc: 0.6100 - val_loss: 1.4503 - val_acc: 0.5793\n",
      "Epoch 7/10\n",
      "169885/169885 [==============================] - 161s 947us/step - loss: 1.2132 - acc: 0.6336 - val_loss: 1.4483 - val_acc: 0.5846\n",
      "Epoch 8/10\n",
      "169885/169885 [==============================] - 161s 950us/step - loss: 1.1382 - acc: 0.6551 - val_loss: 1.4596 - val_acc: 0.5866\n",
      "Epoch 9/10\n",
      "169885/169885 [==============================] - 151s 890us/step - loss: 1.0679 - acc: 0.6745 - val_loss: 1.4859 - val_acc: 0.5850\n",
      "Epoch 10/10\n",
      "169885/169885 [==============================] - 151s 890us/step - loss: 1.0075 - acc: 0.6902 - val_loss: 1.5060 - val_acc: 0.5866\n"
     ]
    }
   ],
   "source": [
    "embedding_vector = 16\n",
    "model = Sequential()\n",
    "model.add(Embedding(input_dim=len(chars), output_dim=embedding_vector, input_length=maxlen+1))#\n",
    "model.add(CuDNNGRU(units=512,return_sequences=False)) #or GRU\n",
    "model.add(Dropout(0.2))\n",
    "model.add(Dense(len(chars), activation='softmax'))\n",
    "model.compile(loss='categorical_crossentropy', optimizer='adam', metrics=['accuracy'])\n",
    "hist = model.fit(X_train, y_train, validation_data=(X_test, y_test), epochs=10, batch_size=128)"
   ]
  },
  {
   "cell_type": "code",
   "execution_count": 76,
   "metadata": {},
   "outputs": [
    {
     "data": {
      "image/png": "[encoded data removed]",
      "text/plain": [
       "<Figure size 720x720 with 4 Axes>"
      ]
     },
     "metadata": {},
     "output_type": "display_data"
    }
   ],
   "source": [
    "fig, axes = plt.subplots(nrows=2, ncols=2, figsize=(10,10))\n",
    "\n",
    "axes[0,0].plot(range(1,11), hist.history['acc'])\n",
    "axes[0,0].set_xlabel(\"epochs\")\n",
    "axes[0,0].set_ylabel(\"Accuracy\")\n",
    "axes[0,0].set_title(\"Accuracy en Training\")\n",
    "axes[0,1].plot(range(1,11), hist.history['val_acc'])\n",
    "axes[0,1].set_xlabel(\"epochs\")\n",
    "axes[0,1].set_ylabel(\"Accuracy\")\n",
    "axes[0,1].set_title(\"Accuracy en Testing\")\n",
    "axes[1,0].plot(range(1,11), hist.history['loss'])\n",
    "axes[1,0].set_xlabel(\"epochs\")\n",
    "axes[1,0].set_ylabel(\"Loss\")\n",
    "axes[1,0].set_title(\"Loss en Training\")\n",
    "axes[1,1].plot(range(1,11), hist.history['val_loss'])\n",
    "axes[1,1].set_xlabel(\"epochs\")\n",
    "axes[1,1].set_ylabel(\"Loss\")\n",
    "axes[1,1].set_title(\"Loss en Testing\")\n",
    "\n",
    "plt.suptitle(\"Accuracy y Loss para la red con CuDNNGRU\")\n",
    "plt.show()"
   ]
  },
  {
   "cell_type": "markdown",
   "metadata": {},
   "source": [
    ">  m) Entrene la red con las funciones que se presentan a continuación que mostrarán el cómo va la tarea de autocompletar texto en cada *epoch*, generando una sentencia completa de 400 carácteres *aleatoriamente* a partir de una semilla *random*. Entrene solo durante 25 *epochs*, a los 15 ya debería comenzar a generar palabras y sonar mas coherente."
   ]
  },
  {
   "cell_type": "code",
   "execution_count": 36,
   "metadata": {},
   "outputs": [],
   "source": [
    "def predict_next_char(model, sentence, diversity=1.0):\n",
    "    \"\"\"Predict the next character from the current one\"\"\"    \n",
    "    x_pred = [char_indices[null_character]]+[char_indices[char] for char in sentence]\n",
    "    x_pred = sequence.pad_sequences([x_pred], maxlen=maxlen+1,padding='pre',value=char_indices[null_character])\n",
    "    preds = model.predict(x_pred, verbose=0)[0]\n",
    "    next_index = np.random.choice(len(chars), p=preds)\n",
    "    return indices_char[next_index]\n",
    "\n",
    "def on_epoch_end(epoch, logs):\n",
    "    # Function invoked at end of each epoch. Prints generated text.\n",
    "    print('\\n----- Generating text after Epoch: %d' % epoch)\n",
    "    start_index = random.randint(0, size - maxlen - 1)\n",
    "    sentence = text[start_index: start_index + maxlen]\n",
    "    print('----- Generating with seed: \"' + sentence + '\"')\n",
    "    sys.stdout.write(sentence)\n",
    "    for i in range(400):\n",
    "        next_char = predict_next_char(model, sentence)\n",
    "        sentence = sentence[1:] + next_char #for next character\n",
    "        sys.stdout.write(next_char)\n",
    "        sys.stdout.flush()\n",
    "    return"
   ]
  },
  {
   "cell_type": "code",
   "execution_count": 37,
   "metadata": {
    "scrolled": false
   },
   "outputs": [
    {
     "name": "stdout",
     "output_type": "stream",
     "text": [
      "Train on 242693 samples, validate on 72808 samples\n",
      "Epoch 1/25\n",
      "242693/242693 [==============================] - 191s 786us/step - loss: 2.4262 - acc: 0.2972 - val_loss: 2.0535 - val_acc: 0.3893\n",
      "\n",
      "----- Generating text after Epoch: 0\n",
      "----- Generating with seed: \"tes , politicians and religious leaders \"\n",
      "tes , politicians and religious leaders nas staicand singan s rohl en the is sfynce fee streire , of lisgorting ofongays . to1 a camrasad crswenterently in laiola wan an quasis alencrned a-blonestsorian . the dexreenter lesev indepened sath mangins . the has dity chasustay in an80 and bye-galaning thel weand lys ansinusedy comfings destersoush , u51 . foth ctsmuriats opelle metingeing chles prespenaly as the haul-th reperting miglallalsEpoch 2/25\n",
      "242693/242693 [==============================] - 185s 763us/step - loss: 1.8994 - acc: 0.4389 - val_loss: 1.6734 - val_acc: 0.5081\n",
      "\n",
      "----- Generating text after Epoch: 1\n",
      "----- Generating with seed: \"ilitants claimed responsibility for the \"\n",
      "ilitants claimed responsibility for the wargen dates to algohnod kainian . the gomers sin offstraute riversiest in on koluhre coveroming trysuscleds . iaplarsed bith har calned on y wis gaze openapy of bagt 6j momett on tye0 was crititiled to the somviea 's a pagustiging relolades byearan says kounded . mu.s , wemoneag thir opencies , a tres arso chargesnor ) he cambinist , at meall 's clear danciol reasored ncanus 's nomt go bit opnetiEpoch 3/25\n",
      "242693/242693 [==============================] - 185s 764us/step - loss: 1.6464 - acc: 0.5158 - val_loss: 1.4699 - val_acc: 0.5646\n",
      "\n",
      "----- Generating text after Epoch: 2\n",
      "----- Generating with seed: \" convicted last year on terrorism charge\"\n",
      " convicted last year on terrorism charges to aldo bordy ulited said the dustprest in a staring west with the impodtinalatem a dotnoting the rormers and esigeneg for of the grane abreaderg heg latt ot werkor tlannentgo blizo with repates than \" thirt the anta pooplened . brioushrs sazation of nut to raje at last yrad the creaftrists in around an at has detonstlagitions to millth . reforame and allsg of this was incind alowhd cate didenceEpoch 4/25\n",
      "242693/242693 [==============================] - 184s 759us/step - loss: 1.4994 - acc: 0.5573 - val_loss: 1.3319 - val_acc: 0.6054\n",
      "\n",
      "----- Generating text after Epoch: 3\n",
      "----- Generating with seed: \"resident bush later this month . the com\"\n",
      "resident bush later this month . the commented . the united states and tulkiby on hully leaders and the 2805 the united rates artan and afgust the projects supports the nembeos of they has reed the united national pecupitioned relanisn, sunce adearing sec onot chatelled for strike dement bayent berre-veey morents a ere the mzaraba called a strong regolling supplich frum in a vislimed the mansals alloadt south koretally prosession rocelsEpoch 5/25\n",
      "242693/242693 [==============================] - 184s 759us/step - loss: 1.3937 - acc: 0.5866 - val_loss: 1.2271 - val_acc: 0.6336\n",
      "\n",
      "----- Generating text after Epoch: 4\n",
      "----- Generating with seed: \"computers . however , control over those\"\n",
      "computers . however , control over those with tloosed towh thous and the allegeds . outminity to depebupent of vidute second pract shoolly human reaghled bhorghh . the u.s. mall heightor , overys thar death topelati nations and consuett amsairpen betwe esvayes way the such avoid applaying mecial with a fall if ( akter national lice bimed and the sounceais . most . which nations in iraq 's plan to meep the then les defting the some plan Epoch 6/25\n",
      "242693/242693 [==============================] - 186s 768us/step - loss: 1.3153 - acc: 0.6074 - val_loss: 1.1382 - val_acc: 0.6590\n",
      "\n",
      "----- Generating text after Epoch: 5\n",
      "----- Generating with seed: \"eated as a witness rather than a suspect\"\n",
      "eated as a witness rather than a suspect of dectivi is includen ceithinian lead and part , nuclear apericans year by paikcoash . of white hat stare optential . an ansaragu mith cus proporation , were natto foy pet hah forel will the main ;mprovuly ban exconnic leader chief sutulial off candidat has new-marghters in the prime pinint in qout to can day leaders has prived the conglict to indosemb assustan , who charged fart of the manor deEpoch 7/25\n",
      "242693/242693 [==============================] - 187s 769us/step - loss: 1.2415 - acc: 0.6273 - val_loss: 1.0637 - val_acc: 0.6809\n",
      "\n",
      "----- Generating text after Epoch: 6\n",
      "----- Generating with seed: \" entering the country . mr. rhee also sa\"\n",
      " entering the country . mr. rhee also saturday nations lebense fiont, narbes around are than senvice . u.s. somingrease for the two month , westibn southwers says the impacroti hallan airstronganes , has deneched the rebels from poot have some terrorism in 1998 . the people port , the european union onx roreaten the radio ahter the erect . nearly mr. hurricans dead to stanks and prodect . the u.s. defartmert olamsope beman trafecins aloEpoch 8/25\n",
      "242693/242693 [==============================] - 189s 778us/step - loss: 1.1818 - acc: 0.6438 - val_loss: 0.9869 - val_acc: 0.7050\n",
      "\n",
      "----- Generating text after Epoch: 7\n",
      "----- Generating with seed: \"nt to preserve some waters for the local\"\n",
      "nt to preserve some waters for the local packs of the war prite rich was an elpen allegals are the poote . reported against provinces -s a somelamon that ha forel with friday , met cappiov only aluem for fignts-agreed to palestinian central by the government 's havilipe and wounded the firing that basuscon beconves in kay , uscleding have as denief that voted in offoredie to the lates cellers of the burms houls and a refich upined confrEpoch 9/25\n",
      "242693/242693 [==============================] - 200s 824us/step - loss: 1.1231 - acc: 0.6598 - val_loss: 0.9302 - val_acc: 0.7216\n",
      "\n",
      "----- Generating text after Epoch: 8\n",
      "----- Generating with seed: \"or topic at this week 's group of eight \"\n",
      "or topic at this week 's group of eight jove distaiko han vidithers in the wanting for the dually 2509 pursional procrum . mr. capoblech , the jounnal scorms that there has been tray in treeated by parliament moses inside the august 56 members of river the miditants in the bold his plantor . the around 130 overs4, mortar company . a resert to be included an united states say a u.s. military buring a spreatharical officials say tresill dEpoch 10/25\n",
      "242693/242693 [==============================] - 190s 782us/step - loss: 1.0698 - acc: 0.6744 - val_loss: 0.8709 - val_acc: 0.7401\n",
      "\n",
      "----- Generating text after Epoch: 9\n",
      "----- Generating with seed: \"nian people will not be blackmailed . ha\"\n",
      "nian people will not be blackmailed . hamas media reports to forevoying the provinces of griea . president 's national cusmbels out of france . loa last keloyed relations in a strike condecning food recent suicide bamory munitory said they after foreign investigatering in the povert-officials say bit hura . mr. abraskilah change in sep rar aynamise in resumersers that three mining iman asd erocag of ereigman my. it wed e propotal with fEpoch 11/25\n",
      "242693/242693 [==============================] - 229s 945us/step - loss: 1.0274 - acc: 0.6863 - val_loss: 0.8224 - val_acc: 0.7551\n",
      "\n",
      "----- Generating text after Epoch: 10\n",
      "----- Generating with seed: \"they continue attacks from the gaza stri\"\n",
      "they continue attacks from the gaza strip . the fueling and state of jada asharoki in the left wednesday , depenss vere since privo-. mr. abula , karci, herevay . the new domes closendating in the namber bring is the boadd him to meet with iran wow sconery would bee fiird send not interment wating . but in the causerof and injured and the omerican court 's decupagian planned arab has leared three cease-iforing center in bying americans Epoch 12/25\n",
      "242693/242693 [==============================] - 250s 1ms/step - loss: 0.9863 - acc: 0.6968 - val_loss: 0.7804 - val_acc: 0.7680\n",
      "\n",
      "----- Generating text after Epoch: 11\n",
      "----- Generating with seed: \"day 's bombing happened in the capital '\"\n",
      "day 's bombing happened in the capital 's second-lly by believest macker was netorial alyearity in mackura . iraqi foodays and planned in the fire seorend to a region , guzmen , maintain government will strength loru to stop u.s.-dection to the suspects are defited a statement elentity fiomp a number overnated attect . the statement fighters freed my. geveoring egundy by marol terror russia has reperted in the measure were officials sayEpoch 13/25\n",
      "242693/242693 [==============================] - 186s 768us/step - loss: 0.9498 - acc: 0.7068 - val_loss: 0.7465 - val_acc: 0.7779\n",
      "\n",
      "----- Generating text after Epoch: 12\n",
      "----- Generating with seed: \"he country . who says they are receiving\"\n",
      "he country . who says they are receiving eurone proguals , jubal , sardaz have arristed by their new officials in indanes reports including former insurgents in 2012 . evest of to 1998 . the chency rescons hid not say they zay gave the post the ralin outine president muhammagad , and contand on the suicide roof 1hame its north was risists and deach were eirline of police , prosident burgesing cuerings of deadly hended inte thaf with burEpoch 14/25\n",
      "242693/242693 [==============================] - 183s 755us/step - loss: 0.9288 - acc: 0.7137 - val_loss: 0.7209 - val_acc: 0.7837\n",
      "\n",
      "----- Generating text after Epoch: 13\n",
      "----- Generating with seed: \"veral buildings in the gaza strip . the \"\n",
      "veral buildings in the gaza strip . the violence that actur last signed a veost burigus picted politicals trated of an afdicial hanceded and ially strekted by authorities and as the politicities are this week with thousands of pet . in investment vote in iraq wednesday and has donnh are opyed a mindil for peepla for nations-skak and iraq 's any central mokance those 60 other 36 people have compered praised islamia ncormittianed the bordEpoch 15/25\n",
      "242693/242693 [==============================] - 181s 744us/step - loss: 0.9086 - acc: 0.7182 - val_loss: 0.6953 - val_acc: 0.7929\n",
      "\n",
      "----- Generating text after Epoch: 14\n",
      "----- Generating with seed: \"lled when coalition air strikes hit five\"\n",
      "lled when coalition air strikes hit five per embross unitions in the sexioue aray mohameda and apuregontly were served sovered to wor a liked outside in refares are allett to issue . by the trial in oncluti , a diffect fores his bughis in lated mr. thein homes arrest members of the united states have been kidnapped in a arene also repers to slariguted from change . seman 's such a new bapital court jofe-says net onlechers of debels for Epoch 16/25\n",
      "242693/242693 [==============================] - 181s 745us/step - loss: 0.8816 - acc: 0.7258 - val_loss: 0.6850 - val_acc: 0.7953\n",
      "\n",
      "----- Generating text after Epoch: 15\n",
      "----- Generating with seed: \"s and reaffirmed nato 's determination t\"\n",
      "s and reaffirmed nato 's determination to make it early hen rade eluct its minding the sucn to ataliat- thougand . the mubitah defreed the dostue came a key espaced in a group of about this wiel at the defeated mitshheih were duse denies because of a day after economic grownd ly nigation of the diserse commit en offers , which , chay between the united states from the glanwer strige in marcy created a religious for the paurs of was korbEpoch 17/25\n",
      "242693/242693 [==============================] - 181s 744us/step - loss: 0.8778 - acc: 0.7265 - val_loss: 0.6612 - val_acc: 0.8015\n",
      "\n",
      "----- Generating text after Epoch: 16\n",
      "----- Generating with seed: \"invitation of iowa supporters raises spe\"\n",
      "invitation of iowa supporters raises speccuased . the wastings were armed not count is security fugsts the country as a palliamentary restured nations in ortan people and other inditions . the white countre to a pas stoppeizs sundiy year filling a pay began to ature along the dacts say whith says he winding an israeli of-saturkay as a change in the southern serat said to the oremina urrest fall showt to the crackdown because of the popeEpoch 18/25\n",
      "242693/242693 [==============================] - 194s 798us/step - loss: 0.8721 - acc: 0.7273 - val_loss: 0.6616 - val_acc: 0.8002\n",
      "\n",
      "----- Generating text after Epoch: 17\n",
      "----- Generating with seed: \" as a spanish colony during the next sev\"\n",
      " as a spanish colony during the next seves money were lefed to beli overeated meeting in a week of fire of congusents . have been trained at the united nations unt lice say both the negotiated at a nomon was vietne southern continue sunday . elviore says the state of ewely and and several more than a pinges from the palestinian officials have all been pravel in southern changes of rick of repparing emergency . officials say states . claEpoch 19/25\n",
      "242693/242693 [==============================] - 203s 835us/step - loss: 0.8497 - acc: 0.7338 - val_loss: 0.6472 - val_acc: 0.8047\n",
      "\n",
      "----- Generating text after Epoch: 18\n",
      "----- Generating with seed: \" in kabul tuesday . voa 's creole servic\"\n",
      " in kabul tuesday . voa 's creole service is aing the mali is the world trad lound 's novtherd cut hoss in stot in the place . it on a home-did trangevent may aze dailities say the olympic stalicizs town solia are upet at escape , shoritabs that left the government rally beast launching a spalesh crises is darfing experionted a discesses . the themen and approved in proplem majhic detsian in the security council said it is a spanish radEpoch 20/25\n",
      "242693/242693 [==============================] - 196s 810us/step - loss: 0.8545 - acc: 0.7330 - val_loss: 0.6408 - val_acc: 0.8070\n",
      "\n",
      "----- Generating text after Epoch: 19\n",
      "----- Generating with seed: \"e only if the government improves the co\"\n",
      "e only if the government improves the country 's economy en ont the woold be arrested its nates sapellered to sayd meanwhllew . a hald a despritation in the time so rose communition communities lanmang is office says it is president border with air strikes add disputed the chites . outpressed by the elacod . sunday than chency britis . the u.s. coart rose vicl cluam bilities . iraqi security officials say u. . the abracodmand . officialEpoch 21/25\n",
      "242693/242693 [==============================] - 204s 842us/step - loss: 0.8480 - acc: 0.7342 - val_loss: 0.6423 - val_acc: 0.8057\n",
      "\n",
      "----- Generating text after Epoch: 20\n",
      "----- Generating with seed: \"nd housing slumped . however , the indus\"\n",
      "nd housing slumped . however , the industry for the vooking are seeking the country for dooteres hilled the rightifg and palestinian eeforts says his support to determine refarrs for contributing the adback on foreign exidentar . one kimlon ensolved says the government programs have been cuttod say annelest on sudan 's wad president bush 's melbian efforts to lise she kidnapped in the new year . palise in poorg to ruces . needed to blomEpoch 22/25\n",
      "242693/242693 [==============================] - 217s 892us/step - loss: 0.8761 - acc: 0.7253 - val_loss: 0.6339 - val_acc: 0.8089\n",
      "\n",
      "----- Generating text after Epoch: 21\n",
      "----- Generating with seed: \"unded after one of the planes crashed du\"\n",
      "unded after one of the planes crashed during a surmictions unies as an israeli washington . feered an interviewed for during the commission . he said lince and freed miclet the 's national security , which bredaces . other profests a space ago . mr. bush 's relations . authorities are ther setters excard enorgy from u.s. president mighepers unted to zit leas . beijud are discissed erou dubles will be turning for after a group of was mitEpoch 23/25\n",
      "242693/242693 [==============================] - 207s 851us/step - loss: 0.8464 - acc: 0.7339 - val_loss: 0.6315 - val_acc: 0.8074\n",
      "\n",
      "----- Generating text after Epoch: 22\n",
      "----- Generating with seed: \"veled to europe , the middle east and me\"\n",
      "veled to europe , the middle east and meniss to propuray , including three u.s. taoins the electorled government had been reaton of finess one monday , there was elpeding all its island and his some million police , rassian pelisionor agoun and zupt abuse of its ,506 resicated . president bush , bake of the rikion courts poght control inriverin has saye late this year in tharsoys , who has seen to essib with united nations says afghan pEpoch 24/25\n",
      "242693/242693 [==============================] - 209s 861us/step - loss: 0.8547 - acc: 0.7306 - val_loss: 0.6264 - val_acc: 0.8111\n"
     ]
    },
    {
     "name": "stdout",
     "output_type": "stream",
     "text": [
      "\n",
      "----- Generating text after Epoch: 23\n",
      "----- Generating with seed: \"letti has been under intense internation\"\n",
      "letti has been under intense international from the grand of the cashentic parleaming said it collipicagizer when held and other fireting prime minister ahia , legt-mendanch . wiched a vecate of iran , with the dead birded in a series of democracy , smail of nations sope 76 people refeesed ty outhik to protect the american desirence from the united states and indress during the scupe of beopned for new one of the has anded al-majhile inEpoch 25/25\n",
      "242693/242693 [==============================] - 215s 887us/step - loss: 0.8367 - acc: 0.7359 - val_loss: 0.6315 - val_acc: 0.8073\n",
      "\n",
      "----- Generating text after Epoch: 24\n",
      "----- Generating with seed: \"s primary court convicted mohaqiq of bla\"\n",
      "s primary court convicted mohaqiq of blamentil \" in the pack . the united nations says president asker ia prinonees of the city 's militants briggles to gale among puriman officials are starkled , but the uniced and mose choula kake says the body . the united nations for carrelation , killing at least two trip power syrea menistry from 1997 a pre area undergral furmaying in mocad terroting the allegations . some usrepsts and 132 ofhic ,"
     ]
    }
   ],
   "source": [
    "print_callback = LambdaCallback(on_epoch_end=on_epoch_end)\n",
    "\n",
    "embedding_vector = 16\n",
    "model = Sequential()\n",
    "model.add(Embedding(input_dim=len(chars), output_dim=embedding_vector, input_length=maxlen+1))#\n",
    "model.add(CuDNNGRU(units=512,return_sequences=False)) #or GRU\n",
    "model.add(Dropout(0.2))\n",
    "model.add(Dense(len(chars), activation='softmax'))\n",
    "model.compile(loss='categorical_crossentropy', optimizer='adam', metrics=['accuracy'])\n",
    "hist = model.fit(X, y,validation_data=(X_test, y_test), batch_size=256, epochs=25, callbacks=[print_callback])"
   ]
  },
  {
   "cell_type": "code",
   "execution_count": 38,
   "metadata": {},
   "outputs": [],
   "source": [
    "model.save(\"preguntam\")"
   ]
  },
  {
   "cell_type": "code",
   "execution_count": 75,
   "metadata": {},
   "outputs": [],
   "source": [
    "model.save_weights(\"model.h5\")"
   ]
  },
  {
   "cell_type": "code",
   "execution_count": 39,
   "metadata": {
    "scrolled": true
   },
   "outputs": [
    {
     "data": {
      "text/plain": [
       "{'val_loss': [2.0535387582090476,\n",
       "  1.6734164396284334,\n",
       "  1.4699373522272163,\n",
       "  1.3318832163469645,\n",
       "  1.227094545493793,\n",
       "  1.138191645492002,\n",
       "  1.0637083427288574,\n",
       "  0.9869275760839253,\n",
       "  0.9302167746604452,\n",
       "  0.8708591070388414,\n",
       "  0.8223650492085112,\n",
       "  0.7804190131900416,\n",
       "  0.7465319716855728,\n",
       "  0.7209102682799589,\n",
       "  0.6952975623726307,\n",
       "  0.6850331370194735,\n",
       "  0.6611538935514508,\n",
       "  0.6615735656703492,\n",
       "  0.647158284669865,\n",
       "  0.6407947064677302,\n",
       "  0.6423053256090808,\n",
       "  0.6339315050395684,\n",
       "  0.6314552215321643,\n",
       "  0.6263589327996307,\n",
       "  0.631520692116218],\n",
       " 'val_acc': [0.38927040985817046,\n",
       "  0.5080760355939342,\n",
       "  0.5645945500625436,\n",
       "  0.6054005054455119,\n",
       "  0.6336116909967675,\n",
       "  0.6589797824021945,\n",
       "  0.6808729809583537,\n",
       "  0.7050049444788459,\n",
       "  0.7216239974022226,\n",
       "  0.7400835073330864,\n",
       "  0.7550543896078658,\n",
       "  0.7679513240237771,\n",
       "  0.7778815514451134,\n",
       "  0.7836776178048975,\n",
       "  0.7929211075967936,\n",
       "  0.7953246895814515,\n",
       "  0.8014915943433919,\n",
       "  0.8002417317105838,\n",
       "  0.8046917920976586,\n",
       "  0.807026700401893,\n",
       "  0.8056806944357329,\n",
       "  0.8089220964401689,\n",
       "  0.8073700692231622,\n",
       "  0.8110921876913322,\n",
       "  0.8072601911681339],\n",
       " 'loss': [2.4262328292967177,\n",
       "  1.899401395347014,\n",
       "  1.646419441490291,\n",
       "  1.4994373976947786,\n",
       "  1.3936738051033217,\n",
       "  1.3152644397078825,\n",
       "  1.2415074572455678,\n",
       "  1.1817705986160794,\n",
       "  1.123100090799405,\n",
       "  1.069753607055049,\n",
       "  1.0274016603128815,\n",
       "  0.9863493459080649,\n",
       "  0.9498299749276174,\n",
       "  0.9288315028723982,\n",
       "  0.908564252252919,\n",
       "  0.881582236208489,\n",
       "  0.8777554981562435,\n",
       "  0.8721161999224148,\n",
       "  0.8497177253568917,\n",
       "  0.8544551565736198,\n",
       "  0.847972117828861,\n",
       "  0.8761443210934176,\n",
       "  0.8464477844363005,\n",
       "  0.8547029311916533,\n",
       "  0.8367224551181738],\n",
       " 'acc': [0.2971820365647748,\n",
       "  0.43893313775028453,\n",
       "  0.5158245190426378,\n",
       "  0.5572760648228816,\n",
       "  0.5865929384037236,\n",
       "  0.6073969995014892,\n",
       "  0.6273275290186334,\n",
       "  0.6437845343705834,\n",
       "  0.6598294965245384,\n",
       "  0.6744281870516217,\n",
       "  0.6863073924672718,\n",
       "  0.6967774101436794,\n",
       "  0.7067570964144793,\n",
       "  0.7136588199908106,\n",
       "  0.7181748134476874,\n",
       "  0.7258058534861707,\n",
       "  0.7264733634676716,\n",
       "  0.7272892090006716,\n",
       "  0.7338283345628411,\n",
       "  0.7329836460059383,\n",
       "  0.7342321368972937,\n",
       "  0.725290799487541,\n",
       "  0.7339107432024401,\n",
       "  0.7306143976134458,\n",
       "  0.735937995739719]}"
      ]
     },
     "execution_count": 39,
     "metadata": {},
     "output_type": "execute_result"
    }
   ],
   "source": [
    "hist.history"
   ]
  },
  {
   "cell_type": "code",
   "execution_count": 74,
   "metadata": {},
   "outputs": [
    {
     "data": {
      "image/png": "[encoded data removed]",
      "text/plain": [
       "<Figure size 720x360 with 2 Axes>"
      ]
     },
     "metadata": {},
     "output_type": "display_data"
    }
   ],
   "source": [
    "fig, axes = plt.subplots(nrows=1, ncols=2, figsize=(10,5))\n",
    "\n",
    "axes[0].plot(range(1,26), hist.history['acc'])\n",
    "axes[0].plot(range(1,26), hist.history['val_acc'])\n",
    "axes[0].legend([\"Training\", \"Testing\"])\n",
    "axes[0].set_xlabel(\"epochs\")\n",
    "axes[0].set_ylabel(\"Accuracy\")\n",
    "axes[0].set_title(\"Valores de accuracy\")\n",
    "axes[1].plot(range(1,26), hist.history['loss'])\n",
    "axes[1].plot(range(1,26), hist.history['val_loss'])\n",
    "axes[1].legend([\"Training\", \"Testing\"])\n",
    "axes[1].set_xlabel(\"epochs\")\n",
    "axes[1].set_ylabel(\"Loss\")\n",
    "axes[1].set_title(\"Valores de Loss\")\n",
    "plt.show()"
   ]
  },
  {
   "cell_type": "code",
   "execution_count": null,
   "metadata": {},
   "outputs": [],
   "source": []
  },
  {
   "cell_type": "markdown",
   "metadata": {},
   "source": [
    "\n",
    "> n) Verifique la calidad de la red entrenada, cargando el modelo si es que lo guardó o directamente, entregando una predicción sobre una semilla inicial que usted entregue. Observe y comente cualitativamente sobre qué pasa cuando la predicción del siguiente carácter fuese de manera determinista, tomando el máximo valor de entre las predicciones.\n"
   ]
  },
  {
   "cell_type": "code",
   "execution_count": 41,
   "metadata": {},
   "outputs": [
    {
     "name": "stdout",
     "output_type": "stream",
     "text": [
      "----- Generating with seed: \"it is \"\n",
      "it is a mannel . spands , includ , the no the hostil , and vote in an ara gangha raged have no wan generarall said with troops and those was masy on for parties . bothes , day in a sunni canol , which says in a bounch proving in a tunying reless that have said workin , has deficinal cash and secret inar and that . governalls militation , which , the pasest in mostly southwing by land and venezured seven"
     ]
    }
   ],
   "source": [
    "sentence = \"it is \"\n",
    "print('----- Generating with seed: \"' + sentence + '\"')\n",
    "sys.stdout.write(sentence)\n",
    "for i in range(400):\n",
    "    next_char = predict_next_char(model, sentence)\n",
    "    sentence = sentence[1:] + next_char \n",
    "    sys.stdout.write(next_char)\n",
    "    sys.stdout.flush()"
   ]
  },
  {
   "cell_type": "code",
   "execution_count": 43,
   "metadata": {},
   "outputs": [
    {
     "name": "stdout",
     "output_type": "stream",
     "text": [
      "----- Generating with seed: \"it is \"\n",
      "it is annating after . some gomdre . an and the seorens active on hands , the conditude , venezus in vere parsoin round has virus into says of inficr . batill , is not pilities and the to striked mith toot rises withorg says the visit go maktact , in a have said to huk , dayt har and in suppli in 2009 . but in 2003 and politions in south killed releas . the voting aldout in a surviveer and conting signe"
     ]
    }
   ],
   "source": [
    "sentence = \"it is \"\n",
    "print('----- Generating with seed: \"' + sentence + '\"')\n",
    "sys.stdout.write(sentence)\n",
    "for i in range(400):\n",
    "    next_char = predict_next_char(model, sentence)\n",
    "    sentence = sentence[1:] + next_char \n",
    "    sys.stdout.write(next_char)\n",
    "    sys.stdout.flush()"
   ]
  },
  {
   "cell_type": "code",
   "execution_count": 42,
   "metadata": {},
   "outputs": [
    {
     "name": "stdout",
     "output_type": "stream",
     "text": [
      "----- Generating with seed: \"neural networks are \"\n",
      "neural networks are afghanint the assassing retorl 's parestinian meliad and entry former dowth of has dinator comes oppibials in the close outs depocraticn labmeally shripale \" nor che-keal chipelen report in the gaza strip , teecsing inatilled lase toun month thut the military armed viclims have selitide . the repional action said the past . rominging cholden and whote propuses . \" the news agency in the war in ber"
     ]
    }
   ],
   "source": [
    "sentence = \"neural networks are \"\n",
    "print('----- Generating with seed: \"' + sentence + '\"')\n",
    "sys.stdout.write(sentence)\n",
    "for i in range(400):\n",
    "    next_char = predict_next_char(model, sentence)\n",
    "    sentence = sentence[1:] + next_char \n",
    "    sys.stdout.write(next_char)\n",
    "    sys.stdout.flush()"
   ]
  },
  {
   "cell_type": "code",
   "execution_count": 48,
   "metadata": {},
   "outputs": [
    {
     "name": "stdout",
     "output_type": "stream",
     "text": [
      "----- Generating with seed: \"the war in gaza\"\n",
      "the war in gaza strip . the european and security . the u.s. embassy says it hasted it is complitions say they after stateh on the latest detainee two to string commission in and arrest president extovaries spokesman saturday in the 19th-, although the aderican spanes and a fighting explodian president jounnaliats and other in eucompars 's polish confilence in the northern contribution . the 67-year-old programs"
     ]
    }
   ],
   "source": [
    "sentence = \"the war in gaza\"\n",
    "print('----- Generating with seed: \"' + sentence + '\"')\n",
    "sys.stdout.write(sentence)\n",
    "for i in range(400):\n",
    "    next_char = predict_next_char(model, sentence)\n",
    "    sentence = sentence[1:] + next_char \n",
    "    sys.stdout.write(next_char)\n",
    "    sys.stdout.flush()"
   ]
  },
  {
   "cell_type": "code",
   "execution_count": 49,
   "metadata": {},
   "outputs": [
    {
     "name": "stdout",
     "output_type": "stream",
     "text": [
      "----- Generating with seed: \"\"\n",
      " . . , , . , , , , . , . , . . . , . , . . , . , . . , , , . . . 's , . . . . . , , , , b . . . . , . , , . . . , , , . . , . . . . . . , , . . , . . . , , , , . . . , , . , . . . . , . , , , , , . . . , , , . , . h . , . . . , , . . . , . , . . . , . . . , . , , . , . . ) , . , . . , . , , , . . . . , , . , , , . , . . , , , , , . , , , , . . , . , , , . , , . . . . . , , , 's , , . . , . , , . ."
     ]
    }
   ],
   "source": [
    "sentence = \"\"\n",
    "print('----- Generating with seed: \"' + sentence + '\"')\n",
    "sys.stdout.write(sentence)\n",
    "for i in range(400):\n",
    "    next_char = predict_next_char(model, sentence)\n",
    "    sentence = sentence[1:] + next_char \n",
    "    sys.stdout.write(next_char)\n",
    "    sys.stdout.flush()"
   ]
  },
  {
   "cell_type": "markdown",
   "metadata": {},
   "source": [
    "## Referencias\n",
    "- https://nlp.stanford.edu/IR-book/html/htmledition/stemming-and-lemmatization-1.html\n",
    "- https://es.wikipedia.org/wiki/Etiquetado_gramatical"
   ]
  }
 ],
 "metadata": {
  "kernelspec": {
   "display_name": "Python 3",
   "language": "python",
   "name": "python3"
  },
  "language_info": {
   "codemirror_mode": {
    "name": "ipython",
    "version": 3
   },
   "file_extension": ".py",
   "mimetype": "text/x-python",
   "name": "python",
   "nbconvert_exporter": "python",
   "pygments_lexer": "ipython3",
   "version": "3.6.6"
  }
 },
 "nbformat": 4,
 "nbformat_minor": 2
}
