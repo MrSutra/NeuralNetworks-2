{
 "cells": [
  {
   "cell_type": "markdown",
   "metadata": {},
   "source": [
    "## 2.  Redes recurrentes sobre texto\n",
    "Hoy en dı́a, una aplicación relevante de las redes neuronales recurrentes es el modelamiento de texto y lenguaje natural. En esta sección abordaremos el problema de procesar sentencias de texto proporcionadas por GMB (*Groningen Meaning Bank*) para reconocimiento de entidades y tagger. Trabajaremos con el dataset proprocionado a través de la interfaz de Kaggle en el siguiente __[link](https://www.kaggle.com/abhinavwalia95/entity-annotated-corpus)__, con mas de un millón de palabras trabajaremos este dataset para realizar predicciones sobre distintas tareas, del tipo *many to many* y *many to one*.\n",
    "\n",
    "<img src=\"https://i.stack.imgur.com/b4sus.jpg\" width=\"70%\" />"
   ]
  },
  {
   "cell_type": "code",
   "execution_count": 31,
   "metadata": {},
   "outputs": [],
   "source": [
    "%matplotlib inline\n",
    "import time\n",
    "import operator\n",
    "import numpy as np\n",
    "import pandas as pd\n",
    "import matplotlib.pyplot as plt\n",
    "\n",
    "from IPython.core.pylabtools import figsize\n",
    "from sklearn.model_selection import train_test_split\n",
    "\n",
    "from keras.preprocessing import sequence\n",
    "from keras.utils import to_categorical\n",
    "from keras.models import Sequential\n",
    "from keras.layers import LSTM, Embedding, Dense, Dropout, Bidirectional\n",
    "\n",
    "plt.style.use('ggplot')"
   ]
  },
  {
   "cell_type": "code",
   "execution_count": 2,
   "metadata": {},
   "outputs": [
    {
     "name": "stderr",
     "output_type": "stream",
     "text": [
      "b'Skipping line 281837: expected 25 fields, saw 34\\n'\n"
     ]
    }
   ],
   "source": [
    "file = \"./entity-annotated-corpus/ner.csv.zip\"\n",
    "df_ner = pd.read_csv(file, compression=\"infer\", error_bad_lines=False, encoding=\"Latin-1\")\n",
    "df_ner.dropna(inplace=True) "
   ]
  },
  {
   "cell_type": "code",
   "execution_count": 3,
   "metadata": {},
   "outputs": [
    {
     "data": {
      "text/html": [
       "<div>\n",
       "<style scoped>\n",
       "    .dataframe tbody tr th:only-of-type {\n",
       "        vertical-align: middle;\n",
       "    }\n",
       "\n",
       "    .dataframe tbody tr th {\n",
       "        vertical-align: top;\n",
       "    }\n",
       "\n",
       "    .dataframe thead th {\n",
       "        text-align: right;\n",
       "    }\n",
       "</style>\n",
       "<table border=\"1\" class=\"dataframe\">\n",
       "  <thead>\n",
       "    <tr style=\"text-align: right;\">\n",
       "      <th></th>\n",
       "      <th>Unnamed: 0</th>\n",
       "      <th>lemma</th>\n",
       "      <th>next-lemma</th>\n",
       "      <th>next-next-lemma</th>\n",
       "      <th>next-next-pos</th>\n",
       "      <th>next-next-shape</th>\n",
       "      <th>next-next-word</th>\n",
       "      <th>next-pos</th>\n",
       "      <th>next-shape</th>\n",
       "      <th>next-word</th>\n",
       "      <th>...</th>\n",
       "      <th>prev-prev-lemma</th>\n",
       "      <th>prev-prev-pos</th>\n",
       "      <th>prev-prev-shape</th>\n",
       "      <th>prev-prev-word</th>\n",
       "      <th>prev-shape</th>\n",
       "      <th>prev-word</th>\n",
       "      <th>sentence_idx</th>\n",
       "      <th>shape</th>\n",
       "      <th>word</th>\n",
       "      <th>tag</th>\n",
       "    </tr>\n",
       "  </thead>\n",
       "  <tbody>\n",
       "    <tr>\n",
       "      <th>0</th>\n",
       "      <td>0</td>\n",
       "      <td>thousand</td>\n",
       "      <td>of</td>\n",
       "      <td>demonstr</td>\n",
       "      <td>NNS</td>\n",
       "      <td>lowercase</td>\n",
       "      <td>demonstrators</td>\n",
       "      <td>IN</td>\n",
       "      <td>lowercase</td>\n",
       "      <td>of</td>\n",
       "      <td>...</td>\n",
       "      <td>__start2__</td>\n",
       "      <td>__START2__</td>\n",
       "      <td>wildcard</td>\n",
       "      <td>__START2__</td>\n",
       "      <td>wildcard</td>\n",
       "      <td>__START1__</td>\n",
       "      <td>1.0</td>\n",
       "      <td>capitalized</td>\n",
       "      <td>Thousands</td>\n",
       "      <td>O</td>\n",
       "    </tr>\n",
       "    <tr>\n",
       "      <th>1</th>\n",
       "      <td>1</td>\n",
       "      <td>of</td>\n",
       "      <td>demonstr</td>\n",
       "      <td>have</td>\n",
       "      <td>VBP</td>\n",
       "      <td>lowercase</td>\n",
       "      <td>have</td>\n",
       "      <td>NNS</td>\n",
       "      <td>lowercase</td>\n",
       "      <td>demonstrators</td>\n",
       "      <td>...</td>\n",
       "      <td>__start1__</td>\n",
       "      <td>__START1__</td>\n",
       "      <td>wildcard</td>\n",
       "      <td>__START1__</td>\n",
       "      <td>capitalized</td>\n",
       "      <td>Thousands</td>\n",
       "      <td>1.0</td>\n",
       "      <td>lowercase</td>\n",
       "      <td>of</td>\n",
       "      <td>O</td>\n",
       "    </tr>\n",
       "    <tr>\n",
       "      <th>2</th>\n",
       "      <td>2</td>\n",
       "      <td>demonstr</td>\n",
       "      <td>have</td>\n",
       "      <td>march</td>\n",
       "      <td>VBN</td>\n",
       "      <td>lowercase</td>\n",
       "      <td>marched</td>\n",
       "      <td>VBP</td>\n",
       "      <td>lowercase</td>\n",
       "      <td>have</td>\n",
       "      <td>...</td>\n",
       "      <td>thousand</td>\n",
       "      <td>NNS</td>\n",
       "      <td>capitalized</td>\n",
       "      <td>Thousands</td>\n",
       "      <td>lowercase</td>\n",
       "      <td>of</td>\n",
       "      <td>1.0</td>\n",
       "      <td>lowercase</td>\n",
       "      <td>demonstrators</td>\n",
       "      <td>O</td>\n",
       "    </tr>\n",
       "    <tr>\n",
       "      <th>3</th>\n",
       "      <td>3</td>\n",
       "      <td>have</td>\n",
       "      <td>march</td>\n",
       "      <td>through</td>\n",
       "      <td>IN</td>\n",
       "      <td>lowercase</td>\n",
       "      <td>through</td>\n",
       "      <td>VBN</td>\n",
       "      <td>lowercase</td>\n",
       "      <td>marched</td>\n",
       "      <td>...</td>\n",
       "      <td>of</td>\n",
       "      <td>IN</td>\n",
       "      <td>lowercase</td>\n",
       "      <td>of</td>\n",
       "      <td>lowercase</td>\n",
       "      <td>demonstrators</td>\n",
       "      <td>1.0</td>\n",
       "      <td>lowercase</td>\n",
       "      <td>have</td>\n",
       "      <td>O</td>\n",
       "    </tr>\n",
       "    <tr>\n",
       "      <th>4</th>\n",
       "      <td>4</td>\n",
       "      <td>march</td>\n",
       "      <td>through</td>\n",
       "      <td>london</td>\n",
       "      <td>NNP</td>\n",
       "      <td>capitalized</td>\n",
       "      <td>London</td>\n",
       "      <td>IN</td>\n",
       "      <td>lowercase</td>\n",
       "      <td>through</td>\n",
       "      <td>...</td>\n",
       "      <td>demonstr</td>\n",
       "      <td>NNS</td>\n",
       "      <td>lowercase</td>\n",
       "      <td>demonstrators</td>\n",
       "      <td>lowercase</td>\n",
       "      <td>have</td>\n",
       "      <td>1.0</td>\n",
       "      <td>lowercase</td>\n",
       "      <td>marched</td>\n",
       "      <td>O</td>\n",
       "    </tr>\n",
       "  </tbody>\n",
       "</table>\n",
       "<p>5 rows × 25 columns</p>\n",
       "</div>"
      ],
      "text/plain": [
       "   Unnamed: 0     lemma next-lemma next-next-lemma next-next-pos  \\\n",
       "0           0  thousand         of        demonstr           NNS   \n",
       "1           1        of   demonstr            have           VBP   \n",
       "2           2  demonstr       have           march           VBN   \n",
       "3           3      have      march         through            IN   \n",
       "4           4     march    through          london           NNP   \n",
       "\n",
       "  next-next-shape next-next-word next-pos next-shape      next-word ...  \\\n",
       "0       lowercase  demonstrators       IN  lowercase             of ...   \n",
       "1       lowercase           have      NNS  lowercase  demonstrators ...   \n",
       "2       lowercase        marched      VBP  lowercase           have ...   \n",
       "3       lowercase        through      VBN  lowercase        marched ...   \n",
       "4     capitalized         London       IN  lowercase        through ...   \n",
       "\n",
       "  prev-prev-lemma prev-prev-pos prev-prev-shape prev-prev-word   prev-shape  \\\n",
       "0      __start2__    __START2__        wildcard     __START2__     wildcard   \n",
       "1      __start1__    __START1__        wildcard     __START1__  capitalized   \n",
       "2        thousand           NNS     capitalized      Thousands    lowercase   \n",
       "3              of            IN       lowercase             of    lowercase   \n",
       "4        demonstr           NNS       lowercase  demonstrators    lowercase   \n",
       "\n",
       "       prev-word sentence_idx        shape           word tag  \n",
       "0     __START1__          1.0  capitalized      Thousands   O  \n",
       "1      Thousands          1.0    lowercase             of   O  \n",
       "2             of          1.0    lowercase  demonstrators   O  \n",
       "3  demonstrators          1.0    lowercase           have   O  \n",
       "4           have          1.0    lowercase        marched   O  \n",
       "\n",
       "[5 rows x 25 columns]"
      ]
     },
     "execution_count": 3,
     "metadata": {},
     "output_type": "execute_result"
    }
   ],
   "source": [
    "df_ner.head()"
   ]
  },
  {
   "cell_type": "code",
   "execution_count": 4,
   "metadata": {},
   "outputs": [
    {
     "data": {
      "text/plain": [
       "(1050794, 25)"
      ]
     },
     "execution_count": 4,
     "metadata": {},
     "output_type": "execute_result"
    }
   ],
   "source": [
    "df_ner.shape"
   ]
  },
  {
   "cell_type": "code",
   "execution_count": 5,
   "metadata": {},
   "outputs": [
    {
     "name": "stdout",
     "output_type": "stream",
     "text": [
      "<class 'pandas.core.frame.DataFrame'>\n",
      "Int64Index: 1050794 entries, 0 to 1050794\n",
      "Data columns (total 25 columns):\n",
      "Unnamed: 0         1050794 non-null int64\n",
      "lemma              1050794 non-null object\n",
      "next-lemma         1050794 non-null object\n",
      "next-next-lemma    1050794 non-null object\n",
      "next-next-pos      1050794 non-null object\n",
      "next-next-shape    1050794 non-null object\n",
      "next-next-word     1050794 non-null object\n",
      "next-pos           1050794 non-null object\n",
      "next-shape         1050794 non-null object\n",
      "next-word          1050794 non-null object\n",
      "pos                1050794 non-null object\n",
      "prev-iob           1050794 non-null object\n",
      "prev-lemma         1050794 non-null object\n",
      "prev-pos           1050794 non-null object\n",
      "prev-prev-iob      1050794 non-null object\n",
      "prev-prev-lemma    1050794 non-null object\n",
      "prev-prev-pos      1050794 non-null object\n",
      "prev-prev-shape    1050794 non-null object\n",
      "prev-prev-word     1050794 non-null object\n",
      "prev-shape         1050794 non-null object\n",
      "prev-word          1050794 non-null object\n",
      "sentence_idx       1050794 non-null float64\n",
      "shape              1050794 non-null object\n",
      "word               1050794 non-null object\n",
      "tag                1050794 non-null object\n",
      "dtypes: float64(1), int64(1), object(23)\n",
      "memory usage: 208.4+ MB\n"
     ]
    }
   ],
   "source": [
    "df_ner.info()"
   ]
  },
  {
   "cell_type": "markdown",
   "metadata": {},
   "source": [
    "> a) En esta primera instancia trabajaremos con la tarea de realizar un POS *tag* (*Part of Speech*) sobre cada una de las palabras en las sentencias que se nos presenta en los datos, también puede intentar el NER (*Named Entity Recogntion*) sobre la columna *tag*, esta tarea es del tipo *many to many*, es decir, la entrada es una secuencia y la salida es una secuencia sin *shift*, por lo que necesitaremos una estructura de red adecuada a esto. En primer lugar extraiga las columnas que utilizaremos del dataset ¿Por qué es conveniente utilizar *lemma* en vez de la palabra misma *word*?"
   ]
  },
  {
   "cell_type": "code",
   "execution_count": 6,
   "metadata": {},
   "outputs": [],
   "source": [
    "dataset = df_ner.loc[:,[\"lemma\",\"pos\",\"tag\",\"prev-iob\"]]"
   ]
  },
  {
   "cell_type": "code",
   "execution_count": 7,
   "metadata": {},
   "outputs": [
    {
     "data": {
      "text/html": [
       "<div>\n",
       "<style scoped>\n",
       "    .dataframe tbody tr th:only-of-type {\n",
       "        vertical-align: middle;\n",
       "    }\n",
       "\n",
       "    .dataframe tbody tr th {\n",
       "        vertical-align: top;\n",
       "    }\n",
       "\n",
       "    .dataframe thead th {\n",
       "        text-align: right;\n",
       "    }\n",
       "</style>\n",
       "<table border=\"1\" class=\"dataframe\">\n",
       "  <thead>\n",
       "    <tr style=\"text-align: right;\">\n",
       "      <th></th>\n",
       "      <th>lemma</th>\n",
       "      <th>pos</th>\n",
       "      <th>tag</th>\n",
       "      <th>prev-iob</th>\n",
       "    </tr>\n",
       "  </thead>\n",
       "  <tbody>\n",
       "    <tr>\n",
       "      <th>0</th>\n",
       "      <td>thousand</td>\n",
       "      <td>NNS</td>\n",
       "      <td>O</td>\n",
       "      <td>__START1__</td>\n",
       "    </tr>\n",
       "    <tr>\n",
       "      <th>1</th>\n",
       "      <td>of</td>\n",
       "      <td>IN</td>\n",
       "      <td>O</td>\n",
       "      <td>O</td>\n",
       "    </tr>\n",
       "    <tr>\n",
       "      <th>2</th>\n",
       "      <td>demonstr</td>\n",
       "      <td>NNS</td>\n",
       "      <td>O</td>\n",
       "      <td>O</td>\n",
       "    </tr>\n",
       "    <tr>\n",
       "      <th>3</th>\n",
       "      <td>have</td>\n",
       "      <td>VBP</td>\n",
       "      <td>O</td>\n",
       "      <td>O</td>\n",
       "    </tr>\n",
       "    <tr>\n",
       "      <th>4</th>\n",
       "      <td>march</td>\n",
       "      <td>VBN</td>\n",
       "      <td>O</td>\n",
       "      <td>O</td>\n",
       "    </tr>\n",
       "  </tbody>\n",
       "</table>\n",
       "</div>"
      ],
      "text/plain": [
       "      lemma  pos tag    prev-iob\n",
       "0  thousand  NNS   O  __START1__\n",
       "1        of   IN   O           O\n",
       "2  demonstr  NNS   O           O\n",
       "3      have  VBP   O           O\n",
       "4     march  VBN   O           O"
      ]
     },
     "execution_count": 7,
     "metadata": {},
     "output_type": "execute_result"
    }
   ],
   "source": [
    "dataset.head()"
   ]
  },
  {
   "cell_type": "markdown",
   "metadata": {},
   "source": [
    "Luego de esto cree una estructura que contendrá todas las sentencias u oraciones y otra estructura que contendrá los pos tagger, esto es un arreglo de arreglos de lemmas y un arreglo de arreglos de tags respectivamente. ¿Cuales son las dimensiones de ambas estructuras? ¿Cada dato de ejemplo tiene las mismas dimensiones que el resto?"
   ]
  },
  {
   "cell_type": "code",
   "execution_count": 8,
   "metadata": {},
   "outputs": [],
   "source": [
    "sentence = []\n",
    "labels_sentence = []\n",
    "dataX,dataY = [],[]\n",
    "#uniques\n",
    "lemmas,labels = set(), set()\n",
    "\n",
    "for fila in dataset.values:\n",
    "    if fila[-1]==\"__START1__\": \n",
    "        dataX.append(np.asarray(sentence))\n",
    "        dataY.append(np.asarray(labels_sentence))\n",
    "        sentence = []\n",
    "        labels_sentence = []\n",
    "    lemmas.add(fila[0])\n",
    "    labels.add(fila[1])\n",
    "    sentence.append(fila[0])#add lemma\n",
    "    labels_sentence.append(fila[1]) #POS o TAG\n",
    "#data to  array\n",
    "dataX = np.asarray(dataX[1:])\n",
    "dataY = np.asarray(dataY[1:])"
   ]
  },
  {
   "cell_type": "code",
   "execution_count": 9,
   "metadata": {},
   "outputs": [
    {
     "name": "stdout",
     "output_type": "stream",
     "text": [
      "Cantidad labels:  41\n",
      "Cantidad lemmas:  20243\n",
      "Tamaño matriz de lemmas:  (48081,)\n",
      "Tamaño matriz de labels:  (48081,)\n"
     ]
    }
   ],
   "source": [
    "print(\"Cantidad labels: \", len(labels))\n",
    "print(\"Cantidad lemmas: \", len(lemmas))\n",
    "print(\"Tamaño matriz de lemmas: \", dataX.shape)\n",
    "print(\"Tamaño matriz de labels: \", dataY.shape)"
   ]
  },
  {
   "cell_type": "markdown",
   "metadata": {},
   "source": [
    "> b) Estudie la distribución del largo de los textos a procesar. Estudie también la frecuencia con la que aparecen\n",
    "las palabras en todo el dataset. ¿Se observa una ley Zipf? ¿Cambia el resultado cuando se separan los textos de acuerdo a su clase/categorı́a? Comente."
   ]
  },
  {
   "cell_type": "code",
   "execution_count": 10,
   "metadata": {},
   "outputs": [
    {
     "data": {
      "image/png": "[encoded data removed]",
      "text/plain": [
       "<Figure size 1080x504 with 2 Axes>"
      ]
     },
     "metadata": {},
     "output_type": "display_data"
    }
   ],
   "source": [
    "phrases_len = []\n",
    "for row in dataX:\n",
    "    phrases_len.append(len(row))\n",
    "\n",
    "figsize(15,7)\n",
    "plt.subplot(121)\n",
    "plt.hist(phrases_len, bins=40)\n",
    "plt.xlabel(\"Largo de textos\")\n",
    "plt.ylabel(\"Número de filas\")\n",
    "plt.title(\"Distribución de largo de textos\")\n",
    "\n",
    "plt.subplot(122)\n",
    "plt.boxplot(phrases_len, labels=[\"Matriz frases\"])\n",
    "plt.title(\"Boxplot largo frases\")\n",
    "plt.show()"
   ]
  },
  {
   "cell_type": "code",
   "execution_count": 11,
   "metadata": {},
   "outputs": [],
   "source": [
    "def get_frequency(data):\n",
    "    words = dict()\n",
    "    for phrase in data:\n",
    "        for word in phrase:\n",
    "            if word not in words:\n",
    "                words[word] = 0\n",
    "            words[word] += 1\n",
    "    words = sorted(words.items(), key=operator.itemgetter(1), reverse=True)\n",
    "    return words\n",
    "\n",
    "words_freq = get_frequency(dataX)\n",
    "lemmas_freq = get_frequency(dataY)\n",
    "\n",
    "w, w_freq = zip(*words_freq)\n",
    "l, l_freq = zip(*lemmas_freq)"
   ]
  },
  {
   "cell_type": "code",
   "execution_count": 12,
   "metadata": {},
   "outputs": [
    {
     "data": {
      "image/png": "[encoded data removed]",
      "text/plain": [
       "<Figure size 1080x504 with 2 Axes>"
      ]
     },
     "metadata": {},
     "output_type": "display_data"
    }
   ],
   "source": [
    "x_ = np.arange(30)\n",
    "plt.subplot(121)\n",
    "plt.plot(x_, w_freq[:30])\n",
    "plt.xticks(x_, w[:30], rotation=45)\n",
    "plt.xlabel(\"Ranking de palabras\")\n",
    "plt.ylabel(\"# total de ocurrencias\")\n",
    "\n",
    "plt.subplot(122)\n",
    "plt.plot(x_, l_freq[:30])\n",
    "plt.xticks(x_, l[:30], rotation=45)\n",
    "plt.xlabel(\"Ranking de pos tags\")\n",
    "plt.ylabel(\"# total de ocurrencias\")\n",
    "plt.show()"
   ]
  },
  {
   "cell_type": "code",
   "execution_count": 13,
   "metadata": {},
   "outputs": [
    {
     "data": {
      "image/png": "[encoded data removed]",
      "text/plain": [
       "<Figure size 1080x504 with 2 Axes>"
      ]
     },
     "metadata": {},
     "output_type": "display_data"
    }
   ],
   "source": [
    "plt.subplot(121)\n",
    "plt.loglog(np.arange(len(w)), w_freq)\n",
    "plt.title(\"Frecuencia lemmas\")\n",
    "plt.subplot(122)\n",
    "plt.loglog(np.arange(len(l)), l_freq)\n",
    "plt.title(\"Frecuencia labels\")\n",
    "plt.show()"
   ]
  },
  {
   "cell_type": "markdown",
   "metadata": {},
   "source": [
    "> c) Es necesario transformar los textos para que puedan ser entregados apropiadamente a la red, por lo será necesario crear una función que codifique cada posible *lemma* a un número y cada posible *tag* a otro número, utilice esta función sobre las sentencias y *tags* ya generados. Mida cual es el largo máximo de entre todas las sentencias, la cantidad de *lemmas* y etiquetas. Además de esto, debido al largo distinto de las sentencias se deberá realizar *padding* para estandarizar el largo, considere algun carácter especial para codificar el espacio en blanco que luego se le deberá rellenar, por ejemplo si el largo máximo es de 4 y se tiene la sentencia \"the rocket\" codificada como [32,4] será necesario agregar un *lemma* que codificado significará el fin de la sentencia \"the rocket *ENDPAD ENDPAD*\" y codificado quedará como [32,4,*0, 0*]."
   ]
  },
  {
   "cell_type": "markdown",
   "metadata": {},
   "source": [
    "Primero determinamos el tamaño de la sentencia más larga."
   ]
  },
  {
   "cell_type": "code",
   "execution_count": 14,
   "metadata": {},
   "outputs": [
    {
     "name": "stdout",
     "output_type": "stream",
     "text": [
      "Tamaño sentencia más larga:  81\n"
     ]
    }
   ],
   "source": [
    "max_len = 0\n",
    "for lemma in dataX:\n",
    "    max_len = max(len(lemma), max_len)\n",
    "print(\"Tamaño sentencia más larga: \", max_len)"
   ]
  },
  {
   "cell_type": "markdown",
   "metadata": {},
   "source": [
    "A su vez, se agrega el lemma *ENDPAD* que indica espacios en blancos en una sentencia, para dejarlas todas del mismo largo, y su correspondiente label *ENDP*."
   ]
  },
  {
   "cell_type": "code",
   "execution_count": 15,
   "metadata": {},
   "outputs": [],
   "source": [
    "lemmas.add(\"ENDPAD\")\n",
    "labels.add(\"ENDPAD\")"
   ]
  },
  {
   "cell_type": "markdown",
   "metadata": {},
   "source": [
    "Antes de hacer el cambio de palabras a índices, la primera sentencia es de la siguiente forma."
   ]
  },
  {
   "cell_type": "code",
   "execution_count": 16,
   "metadata": {},
   "outputs": [
    {
     "name": "stdout",
     "output_type": "stream",
     "text": [
      "['thousand' 'of' 'demonstr' 'have' 'march' 'through' 'london' 'to'\n",
      " 'protest' 'the' 'war' 'in' 'iraq' 'and' 'demand' 'the' 'withdraw' 'of'\n",
      " 'british' 'troop' 'from' 'that' 'countri' '.']\n"
     ]
    }
   ],
   "source": [
    "print(dataX[0])"
   ]
  },
  {
   "cell_type": "markdown",
   "metadata": {},
   "source": [
    "Así, se hace la conversión de lemmas y labels a números. dataX y dataY se cambian para contener sentencias con los índices de cada palabra."
   ]
  },
  {
   "cell_type": "code",
   "execution_count": 17,
   "metadata": {},
   "outputs": [],
   "source": [
    "lemma2idx = {w: i for i, w in enumerate(lemmas)} # Convertir texto a numeros\n",
    "lab2idx = {t: i for i, t in enumerate(labels)} # Convertir labels a numeros\n",
    "dataX = [[lemma2idx[lemma] for lemma in sentence ] for sentence in dataX]\n",
    "dataY = [[lab2idx[pos] for pos in pos_tags ] for pos_tags in dataY]\n",
    "n_lemmas = len(lemmas)\n",
    "n_labels = len(labels)"
   ]
  },
  {
   "cell_type": "markdown",
   "metadata": {},
   "source": [
    "Con el cambio, la primera sentencia queda como se muestra a continuación."
   ]
  },
  {
   "cell_type": "code",
   "execution_count": 18,
   "metadata": {},
   "outputs": [
    {
     "name": "stdout",
     "output_type": "stream",
     "text": [
      "[20, 2333, 9800, 11967, 6282, 18328, 821, 16690, 18258, 1479, 14372, 1784, 16054, 14432, 7413, 1479, 9050, 2333, 8475, 74, 2677, 17383, 17277, 8884]\n"
     ]
    }
   ],
   "source": [
    "print(dataX[0])"
   ]
  },
  {
   "cell_type": "code",
   "execution_count": 19,
   "metadata": {},
   "outputs": [],
   "source": [
    "X = sequence.pad_sequences(dataX, maxlen=max_len, padding=\"post\", value=lemma2idx[\"ENDPAD\"])\n",
    "y = sequence.pad_sequences(dataY, maxlen=max_len, padding=\"post\", value=lab2idx[\"ENDPAD\"])"
   ]
  },
  {
   "cell_type": "code",
   "execution_count": 20,
   "metadata": {},
   "outputs": [
    {
     "name": "stdout",
     "output_type": "stream",
     "text": [
      "[   20  2333  9800 11967  6282 18328   821 16690 18258  1479 14372  1784\n",
      " 16054 14432  7413  1479  9050  2333  8475    74  2677 17383 17277  8884\n",
      " 14980 14980 14980 14980 14980 14980 14980 14980 14980 14980 14980 14980\n",
      " 14980 14980 14980 14980 14980 14980 14980 14980 14980 14980 14980 14980\n",
      " 14980 14980 14980 14980 14980 14980 14980 14980 14980 14980 14980 14980\n",
      " 14980 14980 14980 14980 14980 14980 14980 14980 14980 14980 14980 14980\n",
      " 14980 14980 14980 14980 14980 14980 14980 14980 14980]\n"
     ]
    }
   ],
   "source": [
    "print(X[0])"
   ]
  },
  {
   "cell_type": "code",
   "execution_count": 21,
   "metadata": {},
   "outputs": [
    {
     "name": "stdout",
     "output_type": "stream",
     "text": [
      "[ 4  9  4 27 35  9  8 32 33 24 25  9  8 17 33 24 25  9 23  4  9 24 25 20\n",
      " 39 39 39 39 39 39 39 39 39 39 39 39 39 39 39 39 39 39 39 39 39 39 39 39\n",
      " 39 39 39 39 39 39 39 39 39 39 39 39 39 39 39 39 39 39 39 39 39 39 39 39\n",
      " 39 39 39 39 39 39 39 39 39]\n"
     ]
    }
   ],
   "source": [
    "print(y[0])"
   ]
  },
  {
   "cell_type": "code",
   "execution_count": 22,
   "metadata": {},
   "outputs": [
    {
     "name": "stdout",
     "output_type": "stream",
     "text": [
      "14980\n",
      "39\n"
     ]
    }
   ],
   "source": [
    "print(lemma2idx['ENDPAD'])\n",
    "print(lab2idx['ENDPAD'])"
   ]
  },
  {
   "cell_type": "code",
   "execution_count": 23,
   "metadata": {},
   "outputs": [
    {
     "data": {
      "text/plain": [
       "(48081, 81)"
      ]
     },
     "execution_count": 23,
     "metadata": {},
     "output_type": "execute_result"
    }
   ],
   "source": [
    "X.shape"
   ]
  },
  {
   "cell_type": "markdown",
   "metadata": {},
   "source": [
    "> d) Realice el *padding* anteriormente mencionado, decida sobre qué le parece mas conveniente al rellenar con el valor especial ¿Al principio o al final de la sentencia? Comente"
   ]
  },
  {
   "cell_type": "markdown",
   "metadata": {},
   "source": [
    "En el punto anterior se aplicó padding al final de las sentencias. Se prefiere dejar al final de la oración pues es fácil identificar la hubicación de la información, si esta está siempre al comienzo del arreglo, y a su vez es fácil identificar cuando esta termina con solo llegar a la etiqueta *ENDPAD*.\n",
    "\n",
    "Dependiendo del dominio del problema puede ser más conveniente colocar en un lugar el padding en vez del otro."
   ]
  },
  {
   "cell_type": "markdown",
   "metadata": {},
   "source": [
    "> e) Para el poder entregar una clasificación sobre los distintos *pos tagger* es necesario tranformarlas a *one hot vectors*, debido a que están codificadas en números enteros, con esto se quedará con un arreglo tridimensional con la cantidad de ejemplos, la cantidad máxima de palabras y la cantidad de posibles *pos tags*. Luego de esto cree los conjuntos de entrenamiento y de prueba con el código a continuación ¿Cuáles son las dimensiones de entrada y salida de cada conjunto? Comente"
   ]
  },
  {
   "cell_type": "code",
   "execution_count": 24,
   "metadata": {},
   "outputs": [
    {
     "name": "stdout",
     "output_type": "stream",
     "text": [
      "Dimensión X sentencias:  (48081, 81)\n",
      "Dimensión y post tags :  (48081, 81)\n"
     ]
    }
   ],
   "source": [
    "print(\"Dimensión X sentencias: \", X.shape)\n",
    "print(\"Dimensión y post tags : \", y.shape)"
   ]
  },
  {
   "cell_type": "code",
   "execution_count": 25,
   "metadata": {},
   "outputs": [],
   "source": [
    "y = np.asarray([to_categorical(i, num_classes=n_labels) for i in y])"
   ]
  },
  {
   "cell_type": "code",
   "execution_count": 26,
   "metadata": {},
   "outputs": [
    {
     "data": {
      "text/plain": [
       "(48081, 81, 42)"
      ]
     },
     "execution_count": 26,
     "metadata": {},
     "output_type": "execute_result"
    }
   ],
   "source": [
    "y.shape"
   ]
  },
  {
   "cell_type": "code",
   "execution_count": 27,
   "metadata": {},
   "outputs": [],
   "source": [
    "X_train, X_test, y_train, y_test = train_test_split(X, y, test_size=0.3,random_state=22)"
   ]
  },
  {
   "cell_type": "code",
   "execution_count": 28,
   "metadata": {},
   "outputs": [
    {
     "name": "stdout",
     "output_type": "stream",
     "text": [
      "Tamaño X_train:  (33656, 81)\n",
      "Tamaño y_train:  (33656, 81, 42)\n",
      "Tamaño X_test :  (14425, 81)\n",
      "Tamaño y_test :  (14425, 81, 42)\n"
     ]
    }
   ],
   "source": [
    "print(\"Tamaño X_train: \", X_train.shape)\n",
    "print(\"Tamaño y_train: \", y_train.shape)\n",
    "print(\"Tamaño X_test : \", X_test.shape)\n",
    "print(\"Tamaño y_test : \", y_test.shape)"
   ]
  },
  {
   "cell_type": "markdown",
   "metadata": {},
   "source": [
    "> f) Defina una red neuronal recurrente *many to many* con compuertas LSTM para aprender a *tagear* el texto, entrenela y evalúe su desempeño sobre ambos conjuntos. Esta red debe procesar la secuencia de *lemmas* rellenados (o sin rellenar) y entregar el *pos tag* a cada uno de estos *lemmas*, por lo que la salida de la red no es un vector como anteriormente se ha trabajado, sino que tiene una dimensión extra la cual es debido a que en cada instante de tiempo se necesita entregar un *output*. Como los *lemmas* corresponden a datos esencialmente categóricos, o al menos discretos, es necesario generar una representación vectorial de ellas. La primera capa de la red a construir debe por lo tanto incluir una transformación entrenable desde el espacio de representación original (discreto) a ${\\rm I\\!R}^{d}$ , con $d$ la dimensionalidad del *embedding*. Comente sobre los cambios que sufre un dato al ingresar a la red y la cantidad de parámetros de la red."
   ]
  },
  {
   "cell_type": "markdown",
   "metadata": {},
   "source": [
    "# agregar calculo de dimensión"
   ]
  },
  {
   "cell_type": "code",
   "execution_count": 40,
   "metadata": {},
   "outputs": [
    {
     "name": "stdout",
     "output_type": "stream",
     "text": [
      "_________________________________________________________________\n",
      "Layer (type)                 Output Shape              Param #   \n",
      "=================================================================\n",
      "embedding_2 (Embedding)      (None, 81, 32)            647808    \n",
      "_________________________________________________________________\n",
      "lstm_2 (LSTM)                (None, 81, 100)           53200     \n",
      "_________________________________________________________________\n",
      "dense_2 (Dense)              (None, 81, 42)            4242      \n",
      "=================================================================\n",
      "Total params: 705,250\n",
      "Trainable params: 705,250\n",
      "Non-trainable params: 0\n",
      "_________________________________________________________________\n"
     ]
    },
    {
     "name": "stderr",
     "output_type": "stream",
     "text": [
      "/home/nacho/anaconda3/envs/redesneuronales/lib/python3.6/site-packages/ipykernel_launcher.py:8: UserWarning: The `nb_epoch` argument in `fit` has been renamed `epochs`.\n",
      "  \n"
     ]
    },
    {
     "name": "stdout",
     "output_type": "stream",
     "text": [
      "Train on 33656 samples, validate on 14425 samples\n",
      "Epoch 1/3\n",
      "33656/33656 [==============================] - 52s 2ms/step - loss: 1.0717 - acc: 0.7491 - val_loss: 0.7590 - val_acc: 0.7935\n",
      "Epoch 2/3\n",
      "33656/33656 [==============================] - 50s 1ms/step - loss: 0.6029 - acc: 0.8372 - val_loss: 0.4029 - val_acc: 0.8881\n",
      "Epoch 3/3\n",
      "33656/33656 [==============================] - 51s 2ms/step - loss: 0.2690 - acc: 0.9294 - val_loss: 0.1811 - val_acc: 0.9526\n"
     ]
    }
   ],
   "source": [
    "embedding_vector = 32\n",
    "model = Sequential()\n",
    "model.add(Embedding(input_dim=n_lemmas, output_dim=embedding_vector, input_length=max_len))\n",
    "model.add(LSTM(units=100,return_sequences=True))\n",
    "model.add(Dense(n_labels, activation='softmax'))\n",
    "model.summary()\n",
    "model.compile(loss='categorical_crossentropy', optimizer='adam', metrics=['accuracy'])\n",
    "results = model.fit(X_train, y_train, validation_data=(X_test, y_test), nb_epoch=3, batch_size=128)\n",
    "scores = model.evaluate(X_test, y_test, verbose=0)"
   ]
  },
  {
   "cell_type": "code",
   "execution_count": 41,
   "metadata": {},
   "outputs": [
    {
     "name": "stdout",
     "output_type": "stream",
     "text": [
      "Loss: 0.1811\tAccuracy: 0.9526\n"
     ]
    }
   ],
   "source": [
    "print(\"Loss: %.4f\\tAccuracy: %.4f\" % (scores[0], scores[1]))"
   ]
  },
  {
   "cell_type": "markdown",
   "metadata": {},
   "source": [
    "Se tiene un buen desempeño de la red con un 95.3% de accuracy."
   ]
  },
  {
   "cell_type": "code",
   "execution_count": 65,
   "metadata": {},
   "outputs": [
    {
     "data": {
      "image/png": "[encoded data removed]",
      "text/plain": [
       "<Figure size 1080x504 with 4 Axes>"
      ]
     },
     "metadata": {},
     "output_type": "display_data"
    }
   ],
   "source": [
    "plt.suptitle(\"Accuracy y Loss para el entrenamiento de la red con LSTM\")\n",
    "plt.subplot(221)\n",
    "plt.plot(range(1,4), results.history['acc'])\n",
    "plt.ylabel('Accuracy')\n",
    "plt.title('Accuracy en entrenamiento')\n",
    "plt.subplot(222)\n",
    "plt.plot(range(1,4), results.history['val_acc'])\n",
    "plt.ylabel('Accuracy')\n",
    "plt.title('Accuracy en testing')\n",
    "plt.subplot(223)\n",
    "plt.plot(range(1,4), results.history['loss'])\n",
    "plt.ylabel('Loss')\n",
    "plt.xlabel('epochs')\n",
    "plt.title('Loss en entrenamiento')\n",
    "plt.subplot(224)\n",
    "plt.plot(range(1,4), results.history['val_loss'])\n",
    "plt.ylabel('Loss')\n",
    "plt.xlabel('epochs')\n",
    "plt.title('Loss en testing')\n",
    "plt.show()"
   ]
  },
  {
   "cell_type": "markdown",
   "metadata": {},
   "source": [
    "> g) Varı́e la dimensionalidad del embedding inicial y determine si aumenta o disminuye el error de clasificación. Comente."
   ]
  },
  {
   "cell_type": "code",
   "execution_count": 25,
   "metadata": {
    "scrolled": true
   },
   "outputs": [
    {
     "name": "stdout",
     "output_type": "stream",
     "text": [
      "---- Dimensión Embedding 16 ----\n",
      "_________________________________________________________________\n",
      "Layer (type)                 Output Shape              Param #   \n",
      "=================================================================\n",
      "embedding_1 (Embedding)      (None, 81, 16)            323904    \n",
      "_________________________________________________________________\n",
      "lstm_1 (LSTM)                (None, 81, 100)           46800     \n",
      "_________________________________________________________________\n",
      "dense_1 (Dense)              (None, 81, 42)            4242      \n",
      "=================================================================\n",
      "Total params: 374,946\n",
      "Trainable params: 374,946\n",
      "Non-trainable params: 0\n",
      "_________________________________________________________________\n",
      "Train on 33656 samples, validate on 14425 samples\n",
      "Epoch 1/3\n",
      "33656/33656 [==============================] - 45s 1ms/step - loss: 1.1094 - acc: 0.7407 - val_loss: 0.7905 - val_acc: 0.7764\n",
      "Epoch 2/3\n",
      "33656/33656 [==============================] - 43s 1ms/step - loss: 0.7123 - acc: 0.8079 - val_loss: 0.5857 - val_acc: 0.8478\n",
      "Epoch 3/3\n",
      "33656/33656 [==============================] - 43s 1ms/step - loss: 0.4541 - acc: 0.8720 - val_loss: 0.3364 - val_acc: 0.9055\n",
      "Tiempo embeding 16 : 130.6331446170807\n",
      "---- Dimensión Embedding 32 ----\n",
      "_________________________________________________________________\n",
      "Layer (type)                 Output Shape              Param #   \n",
      "=================================================================\n",
      "embedding_2 (Embedding)      (None, 81, 32)            647808    \n",
      "_________________________________________________________________\n",
      "lstm_2 (LSTM)                (None, 81, 100)           53200     \n",
      "_________________________________________________________________\n",
      "dense_2 (Dense)              (None, 81, 42)            4242      \n",
      "=================================================================\n",
      "Total params: 705,250\n",
      "Trainable params: 705,250\n",
      "Non-trainable params: 0\n",
      "_________________________________________________________________\n",
      "Train on 33656 samples, validate on 14425 samples\n",
      "Epoch 1/3\n",
      "33656/33656 [==============================] - 42s 1ms/step - loss: 1.0708 - acc: 0.7493 - val_loss: 0.7638 - val_acc: 0.7946\n",
      "Epoch 2/3\n",
      "33656/33656 [==============================] - 41s 1ms/step - loss: 0.6181 - acc: 0.8343 - val_loss: 0.4254 - val_acc: 0.8783\n",
      "Epoch 3/3\n",
      "33656/33656 [==============================] - 42s 1ms/step - loss: 0.2869 - acc: 0.9245 - val_loss: 0.1842 - val_acc: 0.9536\n",
      "Tiempo embeding 32 : 126.28529334068298\n",
      "---- Dimensión Embedding 42 ----\n",
      "_________________________________________________________________\n",
      "Layer (type)                 Output Shape              Param #   \n",
      "=================================================================\n",
      "embedding_3 (Embedding)      (None, 81, 42)            850248    \n",
      "_________________________________________________________________\n",
      "lstm_3 (LSTM)                (None, 81, 100)           57200     \n",
      "_________________________________________________________________\n",
      "dense_3 (Dense)              (None, 81, 42)            4242      \n",
      "=================================================================\n",
      "Total params: 911,690\n",
      "Trainable params: 911,690\n",
      "Non-trainable params: 0\n",
      "_________________________________________________________________\n",
      "Train on 33656 samples, validate on 14425 samples\n",
      "Epoch 1/3\n",
      "33656/33656 [==============================] - 45s 1ms/step - loss: 1.0630 - acc: 0.7527 - val_loss: 0.7459 - val_acc: 0.7942\n",
      "Epoch 2/3\n",
      "33656/33656 [==============================] - 44s 1ms/step - loss: 0.5584 - acc: 0.8518 - val_loss: 0.3471 - val_acc: 0.9115\n",
      "Epoch 3/3\n",
      "33656/33656 [==============================] - 46s 1ms/step - loss: 0.2256 - acc: 0.9436 - val_loss: 0.1517 - val_acc: 0.9609\n",
      "Tiempo embeding 42 : 135.67986750602722\n",
      "---- Dimensión Embedding 64 ----\n",
      "_________________________________________________________________\n",
      "Layer (type)                 Output Shape              Param #   \n",
      "=================================================================\n",
      "embedding_4 (Embedding)      (None, 81, 64)            1295616   \n",
      "_________________________________________________________________\n",
      "lstm_4 (LSTM)                (None, 81, 100)           66000     \n",
      "_________________________________________________________________\n",
      "dense_4 (Dense)              (None, 81, 42)            4242      \n",
      "=================================================================\n",
      "Total params: 1,365,858\n",
      "Trainable params: 1,365,858\n",
      "Non-trainable params: 0\n",
      "_________________________________________________________________\n",
      "Train on 33656 samples, validate on 14425 samples\n",
      "Epoch 1/3\n",
      "33656/33656 [==============================] - 46s 1ms/step - loss: 1.0414 - acc: 0.7573 - val_loss: 0.7258 - val_acc: 0.8173\n",
      "Epoch 2/3\n",
      "33656/33656 [==============================] - 46s 1ms/step - loss: 0.4687 - acc: 0.8834 - val_loss: 0.2455 - val_acc: 0.9420\n",
      "Epoch 3/3\n",
      "33656/33656 [==============================] - 47s 1ms/step - loss: 0.1622 - acc: 0.9592 - val_loss: 0.1225 - val_acc: 0.9662\n",
      "Tiempo embeding 64 : 139.92213940620422\n",
      "---- Dimensión Embedding 81 ----\n",
      "_________________________________________________________________\n",
      "Layer (type)                 Output Shape              Param #   \n",
      "=================================================================\n",
      "embedding_5 (Embedding)      (None, 81, 81)            1639764   \n",
      "_________________________________________________________________\n",
      "lstm_5 (LSTM)                (None, 81, 100)           72800     \n",
      "_________________________________________________________________\n",
      "dense_5 (Dense)              (None, 81, 42)            4242      \n",
      "=================================================================\n",
      "Total params: 1,716,806\n",
      "Trainable params: 1,716,806\n",
      "Non-trainable params: 0\n",
      "_________________________________________________________________\n",
      "Train on 33656 samples, validate on 14425 samples\n",
      "Epoch 1/3\n",
      "33656/33656 [==============================] - 50s 1ms/step - loss: 1.0053 - acc: 0.7678 - val_loss: 0.6637 - val_acc: 0.8260\n",
      "Epoch 2/3\n",
      "33656/33656 [==============================] - 50s 1ms/step - loss: 0.3874 - acc: 0.8969 - val_loss: 0.1975 - val_acc: 0.9520\n",
      "Epoch 3/3\n",
      "33656/33656 [==============================] - 49s 1ms/step - loss: 0.1378 - acc: 0.9640 - val_loss: 0.1113 - val_acc: 0.9684\n",
      "Tiempo embeding 81 : 150.14668607711792\n",
      "---- Dimensión Embedding 128 ----\n",
      "_________________________________________________________________\n",
      "Layer (type)                 Output Shape              Param #   \n",
      "=================================================================\n",
      "embedding_6 (Embedding)      (None, 81, 128)           2591232   \n",
      "_________________________________________________________________\n",
      "lstm_6 (LSTM)                (None, 81, 100)           91600     \n",
      "_________________________________________________________________\n",
      "dense_6 (Dense)              (None, 81, 42)            4242      \n",
      "=================================================================\n",
      "Total params: 2,687,074\n",
      "Trainable params: 2,687,074\n",
      "Non-trainable params: 0\n",
      "_________________________________________________________________\n",
      "Train on 33656 samples, validate on 14425 samples\n",
      "Epoch 1/3\n",
      "33656/33656 [==============================] - 54s 2ms/step - loss: 0.9847 - acc: 0.7694 - val_loss: 0.6059 - val_acc: 0.8490\n",
      "Epoch 2/3\n",
      "33656/33656 [==============================] - 53s 2ms/step - loss: 0.3242 - acc: 0.9199 - val_loss: 0.1639 - val_acc: 0.9590\n",
      "Epoch 3/3\n",
      "33656/33656 [==============================] - 53s 2ms/step - loss: 0.1171 - acc: 0.9680 - val_loss: 0.0995 - val_acc: 0.9706\n",
      "Tiempo embeding 128 : 161.00789594650269\n",
      "---- Dimensión Embedding 256 ----\n",
      "_________________________________________________________________\n",
      "Layer (type)                 Output Shape              Param #   \n",
      "=================================================================\n",
      "embedding_7 (Embedding)      (None, 81, 256)           5182464   \n",
      "_________________________________________________________________\n",
      "lstm_7 (LSTM)                (None, 81, 100)           142800    \n",
      "_________________________________________________________________\n",
      "dense_7 (Dense)              (None, 81, 42)            4242      \n",
      "=================================================================\n",
      "Total params: 5,329,506\n",
      "Trainable params: 5,329,506\n",
      "Non-trainable params: 0\n",
      "_________________________________________________________________\n"
     ]
    },
    {
     "name": "stdout",
     "output_type": "stream",
     "text": [
      "Train on 33656 samples, validate on 14425 samples\n",
      "Epoch 1/3\n",
      "33656/33656 [==============================] - 65s 2ms/step - loss: 0.8576 - acc: 0.8012 - val_loss: 0.3643 - val_acc: 0.9100\n",
      "Epoch 2/3\n",
      "33656/33656 [==============================] - 66s 2ms/step - loss: 0.1795 - acc: 0.9553 - val_loss: 0.1090 - val_acc: 0.9686\n",
      "Epoch 3/3\n",
      "33656/33656 [==============================] - 66s 2ms/step - loss: 0.0862 - acc: 0.9738 - val_loss: 0.0834 - val_acc: 0.9737\n",
      "Tiempo embeding 256 : 198.1886179447174\n"
     ]
    }
   ],
   "source": [
    "score_models = {}\n",
    "times = {}\n",
    "embedding_vectors = [16, 32, 42, 64, 81, 128, 256]\n",
    "for size in embedding_vectors:\n",
    "    print(\"---- Dimensión Embedding %d ----\" % size)\n",
    "    model = Sequential()\n",
    "    model.add(Embedding(input_dim=n_lemmas, output_dim=size, input_length=max_len))\n",
    "    model.add(LSTM(units=100,return_sequences=True))\n",
    "    model.add(Dense(n_labels, activation='softmax'))\n",
    "    model.summary()\n",
    "    model.compile(loss='categorical_crossentropy', optimizer='adam', metrics=['accuracy'])\n",
    "    start_time = time.time()\n",
    "    model.fit(X_train, y_train, validation_data=(X_test, y_test), epochs=3, batch_size=128)\n",
    "    duration = time.time()-start_time\n",
    "    print(\"Tiempo embeding {} : {}\".format(size, duration))\n",
    "    score_models[size] = model.evaluate(X_test, y_test, verbose=0)\n",
    "    times[size] = duration"
   ]
  },
  {
   "cell_type": "code",
   "execution_count": 30,
   "metadata": {},
   "outputs": [
    {
     "name": "stdout",
     "output_type": "stream",
     "text": [
      "E.V: 16,\t Acc: 0.905\tLoss: 0.336\tTime:130.6\n",
      "E.V: 32,\t Acc: 0.954\tLoss: 0.184\tTime:126.3\n",
      "E.V: 42,\t Acc: 0.961\tLoss: 0.152\tTime:135.7\n",
      "E.V: 64,\t Acc: 0.966\tLoss: 0.122\tTime:139.9\n",
      "E.V: 81,\t Acc: 0.968\tLoss: 0.111\tTime:150.1\n",
      "E.V: 128,\t Acc: 0.971\tLoss: 0.099\tTime:161.0\n",
      "E.V: 256,\t Acc: 0.974\tLoss: 0.083\tTime:198.2\n"
     ]
    }
   ],
   "source": [
    "# imprimir errores y tiempo\n",
    "for size in embedding_vectors:\n",
    "    print(\"E.V: %d,\\t Acc: %.3f\\tLoss: %.3f\\tTime:%.1f\" %\n",
    "          (size, score_models[size][1], score_models[size][0], times[size]))"
   ]
  },
  {
   "cell_type": "markdown",
   "metadata": {},
   "source": [
    "> h) Use Dropout para entrenar la LSTM. ¿El Dropout mejora el desempeño de la red? Señale cuales podrı́an ser las causas del comportamiento observado."
   ]
  },
  {
   "cell_type": "code",
   "execution_count": 29,
   "metadata": {},
   "outputs": [
    {
     "name": "stdout",
     "output_type": "stream",
     "text": [
      "Train on 33656 samples, validate on 14425 samples\n",
      "Epoch 1/3\n",
      "33656/33656 [==============================] - 53s 2ms/step - loss: 1.0850 - acc: 0.7464 - val_loss: 0.7700 - val_acc: 0.7864\n",
      "Epoch 2/3\n",
      "33656/33656 [==============================] - 47s 1ms/step - loss: 0.6621 - acc: 0.8186 - val_loss: 0.4628 - val_acc: 0.8764\n",
      "Epoch 3/3\n",
      "33656/33656 [==============================] - 46s 1ms/step - loss: 0.3286 - acc: 0.9119 - val_loss: 0.2030 - val_acc: 0.9478\n"
     ]
    }
   ],
   "source": [
    "#from keras.layers import Dropout\n",
    "embedding_vector = 32\n",
    "model = Sequential()\n",
    "model.add(Embedding(input_dim=n_lemmas, output_dim=embedding_vector, input_length=max_len))\n",
    "model.add(LSTM(units=100,return_sequences=True)) #or recurrent_dropout=0.2\n",
    "model.add(Dropout(0.2))\n",
    "model.add(Dense(n_labels, activation='softmax'))\n",
    "model.compile(loss='categorical_crossentropy', optimizer='adam', metrics=['accuracy'])\n",
    "start_time = time.time()\n",
    "hist = model.fit(X_train, y_train, validation_data=(X_test, y_test), epochs=3, batch_size=128)\n",
    "duration = time.time() - start_time\n",
    "score = model.evaluate(X_test, y_test, verbose=0)"
   ]
  },
  {
   "cell_type": "code",
   "execution_count": 30,
   "metadata": {},
   "outputs": [
    {
     "name": "stdout",
     "output_type": "stream",
     "text": [
      "{'val_loss': [0.7699954381683257, 0.46284172251691436, 0.20295822277949216], 'val_acc': [0.7864253145404664, 0.8764490662868969, 0.9478391836462235], 'loss': [1.0850297167546568, 0.6621341074705974, 0.32860888824812556], 'acc': [0.7463908620853449, 0.8185710452757342, 0.9118558287847232]}\n",
      "Loss: 0.203\tAccuracy: 0.948\tTiempo: 147.57\n"
     ]
    }
   ],
   "source": [
    "print(hist.history)\n",
    "print(\"Loss: %.3f\\tAccuracy: %.3f\\tTiempo: %.2f\" % (score[0], score[1],duration))"
   ]
  },
  {
   "cell_type": "markdown",
   "metadata": {},
   "source": [
    "> i) Algunos autores señalan la importante dependencia que existe en texto, no solo con las palabras anteriores, sino que con las que siguen. Mejore la red definida en f) utilizando una red neuronal recurrente Bidireccional, es decir, con recurrencia en ambas direcciones sobre la secuencia de *lemmas* de entrada. Comente cuál debiera ser la forma correcta de usar el parámetro *merge_mode* (concatenar, multiplicar, sumar o promediar) para este caso. Además comente las transformaciones que sufre el patrón de entrada al pasar por las capas. ¿Mejora o empeora el desempeño? Analice.\n"
   ]
  },
  {
   "cell_type": "code",
   "execution_count": null,
   "metadata": {},
   "outputs": [],
   "source": [
    "from keras.layers import Bidirectional\n",
    "model = Sequential()\n",
    "model.add(Embedding(input_dim=n_lemmas, output_dim=embedding_vector, input_length=max_input_lenght))\n",
    "layer_lstm = LSTM(units=100,return_sequences=True)\n",
    "model.add(Bidirectional(layer_lstm,merge_mode=choose))\n",
    "model.add(Dense(n_labels, activation='softmax'))\n",
    "model.summary()\n",
    "model.compile(loss='categorical_crossentropy', optimizer='adam', metrics=['accuracy'])\n",
    "model.fit(X_train, y_train, validation_data=(X_test, y_test), nb_epoch=3, batch_size=128)"
   ]
  },
  {
   "cell_type": "markdown",
   "metadata": {},
   "source": [
    "> j) Utilice alguna de las red entrenadas, ojalá una con buen desempeño y muestre las predicciones, el *pos tager*, sobre algún ejemplo de pruebas, comente. Para entender qué son los símbolos *Part of speech tags* visite el siguiente link: https://www.ling.upenn.edu/courses/Fall_2003/ling001/penn_treebank_pos.html \n"
   ]
  },
  {
   "cell_type": "code",
   "execution_count": null,
   "metadata": {},
   "outputs": [],
   "source": [
    "p = model.predict(np.array([X_test[i]]))\n",
    "p = np.argmax(p, axis=-1)\n",
    "print(\"{:15}: {}\".format(\"Lemma\", \"Pred\"))\n",
    "for w,pred in zip(X_test[i],p[0]):\n",
    "    print(\"{:15}: {}\".format(lemmas[w],labels[pred]))"
   ]
  },
  {
   "cell_type": "markdown",
   "metadata": {},
   "source": [
    "> k) Carge las palabras del dataset ¿Por qué no los *lemmas*? y cree el corpus con el cual se trabajará, además de crear la codificación de caracteres a números. Esto se presenta en el código a continuación además de crear la estrucutura de los datos con los que se va a trabajar (sub sentencias del corpus original). Utilice el tamaño del *corpus* que le acomode a la memoria de su computador."
   ]
  },
  {
   "cell_type": "code",
   "execution_count": null,
   "metadata": {},
   "outputs": [],
   "source": [
    "dataset = df_ner.loc[:,[\"word\",\"lemma\"]]\n",
    "text = ' '.join(dataset[\"word\"]).lower() #corpus\n",
    "null_character = \"*\"\n",
    "chars = [null_character]+sorted(list(set(text)))\n",
    "print('total chars:', len(chars))\n",
    "char_indices = {c: i for i, c in enumerate(chars)}\n",
    "indices_char = {i: c for i, c in enumerate(chars)}\n",
    "# cut the text in semi-redundant sequences of maxlen characters\n",
    "maxlen = 40\n",
    "step = 5 \n",
    "sentences = []\n",
    "next_chars = []\n",
    "size = int(len(text)*0.2) #solo un 20% del corpus\n",
    "for i in range(0, size - maxlen, step):\n",
    "    sentences.append(null_character+text[i: i + maxlen])\n",
    "    next_chars.append(text[i + maxlen])\n",
    "print('nb sequences:', len(sentences))"
   ]
  },
  {
   "cell_type": "markdown",
   "metadata": {},
   "source": [
    "> l) Procese las sentencias para así tenerlas codificadas en números que van a representar los carácteres, tal cual se realizó en c) con los *lemmas*, lo mismo para las etiquetas. Además de esto deberá realizar el *padding* correspondiente al comienzo de la sentencia, esto es para que la red aprenda cuando venga una frase mas corta de lo entrenado, este símbolo siignificará que no hay información. Transforme las etiquetas a *one hot vector* como se realizó en c) y defina la red similar a la presentada en f), con un *embedding* seguido de una capa recurrente GRU y la capa de clasificación. Aprovechese de la implementación más rápida de GRU respaldada por __[CuDNN](https://developer.nvidia.com/cudnn)__, una librería de CUDA (NVIDIA) para *Deep Neural Network*. "
   ]
  },
  {
   "cell_type": "code",
   "execution_count": null,
   "metadata": {},
   "outputs": [],
   "source": [
    "dataX = [[char_indices[char] for char in sentence ] for sentence in sentences]\n",
    "dataY = [char_indices[char] for char in next_chars]\n",
    "...#dataX pad sequence padding='pre'\n",
    "...#dataY to categorical with num_classes=len(chars)\n",
    "from keras.layers import CuDNNGRU,GRU\n",
    "embedding_vector = 16\n",
    "model = Sequential()\n",
    "model.add(Embedding(input_dim=len(chars), output_dim=embedding_vector, input_length=maxlen+1))#\n",
    "model.add(CuDNNGRU(units=512,return_sequences=False)) #or GRU\n",
    "model.add(Dropout(0.2))\n",
    "model.add(Dense(len(chars), activation='softmax'))\n",
    "model.compile(loss='categorical_crossentropy', optimizer='adam', metrics=['accuracy'])"
   ]
  },
  {
   "cell_type": "markdown",
   "metadata": {},
   "source": [
    ">  m) Entrene la red con las funciones que se presentan a continuación que mostrarán el cómo va la tarea de autocompletar texto en cada *epoch*, generando una sentencia completa de 400 carácteres *aleatoriamente* a partir de una semilla *random*. Entrene solo durante 25 *epochs*, a los 15 ya debería comenzar a generar palabras y sonar mas coherente."
   ]
  },
  {
   "cell_type": "code",
   "execution_count": null,
   "metadata": {},
   "outputs": [],
   "source": [
    "\n",
    "def predict_next_char(model, sentence, diversity=1.0):\n",
    "    \"\"\"Predict the next character from the current one\"\"\"    \n",
    "    x_pred = [char_indices[null_character]]+[char_indices[char] for char in sentence]\n",
    "    x_pred = sequence.pad_sequences([x_pred], maxlen=maxlen+1,padding='pre',value=char_indices[null_character])\n",
    "    preds = model.predict(x_pred, verbose=0)[0]\n",
    "    next_index = np.random.choice(len(chars), p=preds)\n",
    "    return indices_char[next_index]\n",
    "import random,sys\n",
    "def on_epoch_end(epoch, logs):\n",
    "    # Function invoked at end of each epoch. Prints generated text.\n",
    "    print('\\n----- Generating text after Epoch: %d' % epoch)\n",
    "    start_index = random.randint(0, size - maxlen - 1)\n",
    "    sentence = text[start_index: start_index + maxlen]\n",
    "    print('----- Generating with seed: \"' + sentence + '\"')\n",
    "    sys.stdout.write(sentence)\n",
    "    for i in range(400):\n",
    "        next_char = predict_next_char(model, sentence0)\n",
    "        sentence = sentence[1:] + next_char #for next character\n",
    "        sys.stdout.write(next_char)\n",
    "        sys.stdout.flush()\n",
    "    return\n",
    "from keras.callbacks import LambdaCallback\n",
    "print_callback = LambdaCallback(on_epoch_end=on_epoch_end)\n",
    "model.fit(X, y,batch_size=256,epochs=25, callbacks=[print_callback])"
   ]
  },
  {
   "cell_type": "markdown",
   "metadata": {},
   "source": [
    "\n",
    "> n) Verifique la calidad de la red entrenada, cargando el modelo si es que lo guardó o directamente, entregando una predicción sobre una semilla inicial que usted entregue. Observe y comente cualitativamente sobre qué pasa cuando la predicción del siguiente carácter fuese de manera determinista, tomando el máximo valor de entre las predicciones.\n"
   ]
  },
  {
   "cell_type": "code",
   "execution_count": null,
   "metadata": {},
   "outputs": [],
   "source": [
    "\n",
    "sentence = \"it is \"\n",
    "print('----- Generating with seed: \"' + sentence + '\"')\n",
    "sys.stdout.write(sentence)\n",
    "for i in range(400):\n",
    "    next_char = predict_next_char(model, sentence)\n",
    "    sentence = sentence[1:] + next_char \n",
    "    sys.stdout.write(next_char)\n",
    "    sys.stdout.flush()"
   ]
  }
 ],
 "metadata": {
  "kernelspec": {
   "display_name": "Python 3",
   "language": "python",
   "name": "python3"
  },
  "language_info": {
   "codemirror_mode": {
    "name": "ipython",
    "version": 3
   },
   "file_extension": ".py",
   "mimetype": "text/x-python",
   "name": "python",
   "nbconvert_exporter": "python",
   "pygments_lexer": "ipython3",
   "version": "3.6.6"
  }
 },
 "nbformat": 4,
 "nbformat_minor": 2
}
